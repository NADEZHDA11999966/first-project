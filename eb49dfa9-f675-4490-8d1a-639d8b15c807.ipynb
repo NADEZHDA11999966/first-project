{
 "cells": [
  {
   "cell_type": "markdown",
   "metadata": {
    "toc": true
   },
   "source": [
    "<h1>Содержание<span class=\"tocSkip\"></span></h1>\n",
    "<div class=\"toc\"><ul class=\"toc-item\"><li><span><a href=\"#Подготовка-данных\" data-toc-modified-id=\"Подготовка-данных-1\"><span class=\"toc-item-num\">1&nbsp;&nbsp;</span>Подготовка данных</a></span></li><li><span><a href=\"#Исследование-задачи\" data-toc-modified-id=\"Исследование-задачи-2\"><span class=\"toc-item-num\">2&nbsp;&nbsp;</span>Исследование задачи</a></span></li><li><span><a href=\"#Борьба-с-дисбалансом\" data-toc-modified-id=\"Борьба-с-дисбалансом-3\"><span class=\"toc-item-num\">3&nbsp;&nbsp;</span>Борьба с дисбалансом</a></span></li><li><span><a href=\"#&quot;Дерево-решений&quot;.-Циклом-ищем-лучший-гиперпораметр-max_depth\" data-toc-modified-id=\"&quot;Дерево-решений&quot;.-Циклом-ищем-лучший-гиперпораметр-max_depth-4\"><span class=\"toc-item-num\">4&nbsp;&nbsp;</span>\"Дерево решений\". Циклом ищем лучший гиперпораметр max_depth</a></span></li><li><span><a href=\"#Тестирование-модели\" data-toc-modified-id=\"Тестирование-модели-5\"><span class=\"toc-item-num\">5&nbsp;&nbsp;</span>Тестирование модели</a></span></li><li><span><a href=\"#Чек-лист-готовности-проекта\" data-toc-modified-id=\"Чек-лист-готовности-проекта-6\"><span class=\"toc-item-num\">6&nbsp;&nbsp;</span>Чек-лист готовности проекта</a></span></li></ul></div>"
   ]
  },
  {
   "cell_type": "markdown",
   "metadata": {},
   "source": [
    "# Отток клиентов"
   ]
  },
  {
   "cell_type": "markdown",
   "metadata": {},
   "source": [
    "Из «Бета-Банка» стали уходить клиенты. Каждый месяц. Немного, но заметно. Банковские маркетологи посчитали: сохранять текущих клиентов дешевле, чем привлекать новых.\n",
    "\n",
    "Нужно спрогнозировать, уйдёт клиент из банка в ближайшее время или нет. Вам предоставлены исторические данные о поведении клиентов и расторжении договоров с банком. \n",
    "\n",
    "Постройте модель с предельно большим значением *F1*-меры. Чтобы сдать проект успешно, нужно довести метрику до 0.59. Проверьте *F1*-меру на тестовой выборке самостоятельно.\n",
    "\n",
    "Дополнительно измеряйте *AUC-ROC*, сравнивайте её значение с *F1*-мерой.\n",
    "\n",
    "Источник данных: [https://www.kaggle.com/barelydedicated/bank-customer-churn-modeling](https://www.kaggle.com/barelydedicated/bank-customer-churn-modeling)"
   ]
  },
  {
   "cell_type": "markdown",
   "metadata": {},
   "source": [
    "## Подготовка данных"
   ]
  },
  {
   "cell_type": "code",
   "execution_count": 1,
   "metadata": {},
   "outputs": [],
   "source": [
    "import pandas as pd\n",
    "import matplotlib.pyplot as plt\n",
    "\n",
    "from sklearn.preprocessing import MinMaxScaler\n",
    "from sklearn.utils import shuffle\n",
    "from sklearn.model_selection import train_test_split\n",
    "from sklearn.metrics import (\n",
    "    accuracy_score, \n",
    "    f1_score, \n",
    "    recall_score, \n",
    "    precision_score, \n",
    "    roc_auc_score, \n",
    "    roc_curve, \n",
    "    confusion_matrix\n",
    ")\n",
    "from sklearn.linear_model import LogisticRegression\n",
    "from sklearn.ensemble import RandomForestClassifier\n",
    "from sklearn.preprocessing import StandardScaler\n",
    "from sklearn.tree import DecisionTreeClassifier\n",
    "from sklearn.dummy import DummyClassifier\n",
    "from sklearn.preprocessing import RobustScaler\n",
    "\n",
    "import warnings\n",
    "warnings.filterwarnings(\"ignore\")"
   ]
  },
  {
   "cell_type": "code",
   "execution_count": 2,
   "metadata": {},
   "outputs": [],
   "source": [
    "df = pd.read_csv('/datasets/Churn.csv')"
   ]
  },
  {
   "cell_type": "code",
   "execution_count": 3,
   "metadata": {},
   "outputs": [
    {
     "data": {
      "text/html": [
       "<div>\n",
       "<style scoped>\n",
       "    .dataframe tbody tr th:only-of-type {\n",
       "        vertical-align: middle;\n",
       "    }\n",
       "\n",
       "    .dataframe tbody tr th {\n",
       "        vertical-align: top;\n",
       "    }\n",
       "\n",
       "    .dataframe thead th {\n",
       "        text-align: right;\n",
       "    }\n",
       "</style>\n",
       "<table border=\"1\" class=\"dataframe\">\n",
       "  <thead>\n",
       "    <tr style=\"text-align: right;\">\n",
       "      <th></th>\n",
       "      <th>RowNumber</th>\n",
       "      <th>CustomerId</th>\n",
       "      <th>Surname</th>\n",
       "      <th>CreditScore</th>\n",
       "      <th>Geography</th>\n",
       "      <th>Gender</th>\n",
       "      <th>Age</th>\n",
       "      <th>Tenure</th>\n",
       "      <th>Balance</th>\n",
       "      <th>NumOfProducts</th>\n",
       "      <th>HasCrCard</th>\n",
       "      <th>IsActiveMember</th>\n",
       "      <th>EstimatedSalary</th>\n",
       "      <th>Exited</th>\n",
       "    </tr>\n",
       "  </thead>\n",
       "  <tbody>\n",
       "    <tr>\n",
       "      <th>0</th>\n",
       "      <td>1</td>\n",
       "      <td>15634602</td>\n",
       "      <td>Hargrave</td>\n",
       "      <td>619</td>\n",
       "      <td>France</td>\n",
       "      <td>Female</td>\n",
       "      <td>42</td>\n",
       "      <td>2.0</td>\n",
       "      <td>0.00</td>\n",
       "      <td>1</td>\n",
       "      <td>1</td>\n",
       "      <td>1</td>\n",
       "      <td>101348.88</td>\n",
       "      <td>1</td>\n",
       "    </tr>\n",
       "    <tr>\n",
       "      <th>1</th>\n",
       "      <td>2</td>\n",
       "      <td>15647311</td>\n",
       "      <td>Hill</td>\n",
       "      <td>608</td>\n",
       "      <td>Spain</td>\n",
       "      <td>Female</td>\n",
       "      <td>41</td>\n",
       "      <td>1.0</td>\n",
       "      <td>83807.86</td>\n",
       "      <td>1</td>\n",
       "      <td>0</td>\n",
       "      <td>1</td>\n",
       "      <td>112542.58</td>\n",
       "      <td>0</td>\n",
       "    </tr>\n",
       "    <tr>\n",
       "      <th>2</th>\n",
       "      <td>3</td>\n",
       "      <td>15619304</td>\n",
       "      <td>Onio</td>\n",
       "      <td>502</td>\n",
       "      <td>France</td>\n",
       "      <td>Female</td>\n",
       "      <td>42</td>\n",
       "      <td>8.0</td>\n",
       "      <td>159660.80</td>\n",
       "      <td>3</td>\n",
       "      <td>1</td>\n",
       "      <td>0</td>\n",
       "      <td>113931.57</td>\n",
       "      <td>1</td>\n",
       "    </tr>\n",
       "    <tr>\n",
       "      <th>3</th>\n",
       "      <td>4</td>\n",
       "      <td>15701354</td>\n",
       "      <td>Boni</td>\n",
       "      <td>699</td>\n",
       "      <td>France</td>\n",
       "      <td>Female</td>\n",
       "      <td>39</td>\n",
       "      <td>1.0</td>\n",
       "      <td>0.00</td>\n",
       "      <td>2</td>\n",
       "      <td>0</td>\n",
       "      <td>0</td>\n",
       "      <td>93826.63</td>\n",
       "      <td>0</td>\n",
       "    </tr>\n",
       "    <tr>\n",
       "      <th>4</th>\n",
       "      <td>5</td>\n",
       "      <td>15737888</td>\n",
       "      <td>Mitchell</td>\n",
       "      <td>850</td>\n",
       "      <td>Spain</td>\n",
       "      <td>Female</td>\n",
       "      <td>43</td>\n",
       "      <td>2.0</td>\n",
       "      <td>125510.82</td>\n",
       "      <td>1</td>\n",
       "      <td>1</td>\n",
       "      <td>1</td>\n",
       "      <td>79084.10</td>\n",
       "      <td>0</td>\n",
       "    </tr>\n",
       "    <tr>\n",
       "      <th>5</th>\n",
       "      <td>6</td>\n",
       "      <td>15574012</td>\n",
       "      <td>Chu</td>\n",
       "      <td>645</td>\n",
       "      <td>Spain</td>\n",
       "      <td>Male</td>\n",
       "      <td>44</td>\n",
       "      <td>8.0</td>\n",
       "      <td>113755.78</td>\n",
       "      <td>2</td>\n",
       "      <td>1</td>\n",
       "      <td>0</td>\n",
       "      <td>149756.71</td>\n",
       "      <td>1</td>\n",
       "    </tr>\n",
       "    <tr>\n",
       "      <th>6</th>\n",
       "      <td>7</td>\n",
       "      <td>15592531</td>\n",
       "      <td>Bartlett</td>\n",
       "      <td>822</td>\n",
       "      <td>France</td>\n",
       "      <td>Male</td>\n",
       "      <td>50</td>\n",
       "      <td>7.0</td>\n",
       "      <td>0.00</td>\n",
       "      <td>2</td>\n",
       "      <td>1</td>\n",
       "      <td>1</td>\n",
       "      <td>10062.80</td>\n",
       "      <td>0</td>\n",
       "    </tr>\n",
       "    <tr>\n",
       "      <th>7</th>\n",
       "      <td>8</td>\n",
       "      <td>15656148</td>\n",
       "      <td>Obinna</td>\n",
       "      <td>376</td>\n",
       "      <td>Germany</td>\n",
       "      <td>Female</td>\n",
       "      <td>29</td>\n",
       "      <td>4.0</td>\n",
       "      <td>115046.74</td>\n",
       "      <td>4</td>\n",
       "      <td>1</td>\n",
       "      <td>0</td>\n",
       "      <td>119346.88</td>\n",
       "      <td>1</td>\n",
       "    </tr>\n",
       "    <tr>\n",
       "      <th>8</th>\n",
       "      <td>9</td>\n",
       "      <td>15792365</td>\n",
       "      <td>He</td>\n",
       "      <td>501</td>\n",
       "      <td>France</td>\n",
       "      <td>Male</td>\n",
       "      <td>44</td>\n",
       "      <td>4.0</td>\n",
       "      <td>142051.07</td>\n",
       "      <td>2</td>\n",
       "      <td>0</td>\n",
       "      <td>1</td>\n",
       "      <td>74940.50</td>\n",
       "      <td>0</td>\n",
       "    </tr>\n",
       "    <tr>\n",
       "      <th>9</th>\n",
       "      <td>10</td>\n",
       "      <td>15592389</td>\n",
       "      <td>H?</td>\n",
       "      <td>684</td>\n",
       "      <td>France</td>\n",
       "      <td>Male</td>\n",
       "      <td>27</td>\n",
       "      <td>2.0</td>\n",
       "      <td>134603.88</td>\n",
       "      <td>1</td>\n",
       "      <td>1</td>\n",
       "      <td>1</td>\n",
       "      <td>71725.73</td>\n",
       "      <td>0</td>\n",
       "    </tr>\n",
       "  </tbody>\n",
       "</table>\n",
       "</div>"
      ],
      "text/plain": [
       "   RowNumber  CustomerId   Surname  CreditScore Geography  Gender  Age  \\\n",
       "0          1    15634602  Hargrave          619    France  Female   42   \n",
       "1          2    15647311      Hill          608     Spain  Female   41   \n",
       "2          3    15619304      Onio          502    France  Female   42   \n",
       "3          4    15701354      Boni          699    France  Female   39   \n",
       "4          5    15737888  Mitchell          850     Spain  Female   43   \n",
       "5          6    15574012       Chu          645     Spain    Male   44   \n",
       "6          7    15592531  Bartlett          822    France    Male   50   \n",
       "7          8    15656148    Obinna          376   Germany  Female   29   \n",
       "8          9    15792365        He          501    France    Male   44   \n",
       "9         10    15592389        H?          684    France    Male   27   \n",
       "\n",
       "   Tenure    Balance  NumOfProducts  HasCrCard  IsActiveMember  \\\n",
       "0     2.0       0.00              1          1               1   \n",
       "1     1.0   83807.86              1          0               1   \n",
       "2     8.0  159660.80              3          1               0   \n",
       "3     1.0       0.00              2          0               0   \n",
       "4     2.0  125510.82              1          1               1   \n",
       "5     8.0  113755.78              2          1               0   \n",
       "6     7.0       0.00              2          1               1   \n",
       "7     4.0  115046.74              4          1               0   \n",
       "8     4.0  142051.07              2          0               1   \n",
       "9     2.0  134603.88              1          1               1   \n",
       "\n",
       "   EstimatedSalary  Exited  \n",
       "0        101348.88       1  \n",
       "1        112542.58       0  \n",
       "2        113931.57       1  \n",
       "3         93826.63       0  \n",
       "4         79084.10       0  \n",
       "5        149756.71       1  \n",
       "6         10062.80       0  \n",
       "7        119346.88       1  \n",
       "8         74940.50       0  \n",
       "9         71725.73       0  "
      ]
     },
     "execution_count": 3,
     "metadata": {},
     "output_type": "execute_result"
    }
   ],
   "source": [
    "df.head(10)"
   ]
  },
  {
   "cell_type": "markdown",
   "metadata": {},
   "source": [
    "Для последующего обучения не информативными являются столбцы \"RowNumber\"-порядковый номер, \"Surname\"- фамилия. Данные столбцы подлежат удалению."
   ]
  },
  {
   "cell_type": "code",
   "execution_count": 4,
   "metadata": {},
   "outputs": [
    {
     "data": {
      "text/html": [
       "<div>\n",
       "<style scoped>\n",
       "    .dataframe tbody tr th:only-of-type {\n",
       "        vertical-align: middle;\n",
       "    }\n",
       "\n",
       "    .dataframe tbody tr th {\n",
       "        vertical-align: top;\n",
       "    }\n",
       "\n",
       "    .dataframe thead th {\n",
       "        text-align: right;\n",
       "    }\n",
       "</style>\n",
       "<table border=\"1\" class=\"dataframe\">\n",
       "  <thead>\n",
       "    <tr style=\"text-align: right;\">\n",
       "      <th></th>\n",
       "      <th>CreditScore</th>\n",
       "      <th>Geography</th>\n",
       "      <th>Gender</th>\n",
       "      <th>Age</th>\n",
       "      <th>Tenure</th>\n",
       "      <th>Balance</th>\n",
       "      <th>NumOfProducts</th>\n",
       "      <th>HasCrCard</th>\n",
       "      <th>IsActiveMember</th>\n",
       "      <th>EstimatedSalary</th>\n",
       "      <th>Exited</th>\n",
       "    </tr>\n",
       "  </thead>\n",
       "  <tbody>\n",
       "    <tr>\n",
       "      <th>0</th>\n",
       "      <td>619</td>\n",
       "      <td>France</td>\n",
       "      <td>Female</td>\n",
       "      <td>42</td>\n",
       "      <td>2.0</td>\n",
       "      <td>0.00</td>\n",
       "      <td>1</td>\n",
       "      <td>1</td>\n",
       "      <td>1</td>\n",
       "      <td>101348.88</td>\n",
       "      <td>1</td>\n",
       "    </tr>\n",
       "    <tr>\n",
       "      <th>1</th>\n",
       "      <td>608</td>\n",
       "      <td>Spain</td>\n",
       "      <td>Female</td>\n",
       "      <td>41</td>\n",
       "      <td>1.0</td>\n",
       "      <td>83807.86</td>\n",
       "      <td>1</td>\n",
       "      <td>0</td>\n",
       "      <td>1</td>\n",
       "      <td>112542.58</td>\n",
       "      <td>0</td>\n",
       "    </tr>\n",
       "    <tr>\n",
       "      <th>2</th>\n",
       "      <td>502</td>\n",
       "      <td>France</td>\n",
       "      <td>Female</td>\n",
       "      <td>42</td>\n",
       "      <td>8.0</td>\n",
       "      <td>159660.80</td>\n",
       "      <td>3</td>\n",
       "      <td>1</td>\n",
       "      <td>0</td>\n",
       "      <td>113931.57</td>\n",
       "      <td>1</td>\n",
       "    </tr>\n",
       "    <tr>\n",
       "      <th>3</th>\n",
       "      <td>699</td>\n",
       "      <td>France</td>\n",
       "      <td>Female</td>\n",
       "      <td>39</td>\n",
       "      <td>1.0</td>\n",
       "      <td>0.00</td>\n",
       "      <td>2</td>\n",
       "      <td>0</td>\n",
       "      <td>0</td>\n",
       "      <td>93826.63</td>\n",
       "      <td>0</td>\n",
       "    </tr>\n",
       "    <tr>\n",
       "      <th>4</th>\n",
       "      <td>850</td>\n",
       "      <td>Spain</td>\n",
       "      <td>Female</td>\n",
       "      <td>43</td>\n",
       "      <td>2.0</td>\n",
       "      <td>125510.82</td>\n",
       "      <td>1</td>\n",
       "      <td>1</td>\n",
       "      <td>1</td>\n",
       "      <td>79084.10</td>\n",
       "      <td>0</td>\n",
       "    </tr>\n",
       "  </tbody>\n",
       "</table>\n",
       "</div>"
      ],
      "text/plain": [
       "   CreditScore Geography  Gender  Age  Tenure    Balance  NumOfProducts  \\\n",
       "0          619    France  Female   42     2.0       0.00              1   \n",
       "1          608     Spain  Female   41     1.0   83807.86              1   \n",
       "2          502    France  Female   42     8.0  159660.80              3   \n",
       "3          699    France  Female   39     1.0       0.00              2   \n",
       "4          850     Spain  Female   43     2.0  125510.82              1   \n",
       "\n",
       "   HasCrCard  IsActiveMember  EstimatedSalary  Exited  \n",
       "0          1               1        101348.88       1  \n",
       "1          0               1        112542.58       0  \n",
       "2          1               0        113931.57       1  \n",
       "3          0               0         93826.63       0  \n",
       "4          1               1         79084.10       0  "
      ]
     },
     "execution_count": 4,
     "metadata": {},
     "output_type": "execute_result"
    }
   ],
   "source": [
    "for_drop = ['RowNumber', 'Surname', 'CustomerId']\n",
    "df_good = df.drop(for_drop, axis=1)\n",
    "df_good.head()"
   ]
  },
  {
   "cell_type": "code",
   "execution_count": 5,
   "metadata": {},
   "outputs": [
    {
     "data": {
      "text/html": [
       "<div>\n",
       "<style scoped>\n",
       "    .dataframe tbody tr th:only-of-type {\n",
       "        vertical-align: middle;\n",
       "    }\n",
       "\n",
       "    .dataframe tbody tr th {\n",
       "        vertical-align: top;\n",
       "    }\n",
       "\n",
       "    .dataframe thead th {\n",
       "        text-align: right;\n",
       "    }\n",
       "</style>\n",
       "<table border=\"1\" class=\"dataframe\">\n",
       "  <thead>\n",
       "    <tr style=\"text-align: right;\">\n",
       "      <th></th>\n",
       "      <th>credit_score</th>\n",
       "      <th>Geography</th>\n",
       "      <th>Gender</th>\n",
       "      <th>Age</th>\n",
       "      <th>Tenure</th>\n",
       "      <th>Balance</th>\n",
       "      <th>num_of_products</th>\n",
       "      <th>has_cr_card</th>\n",
       "      <th>is_active_member</th>\n",
       "      <th>estimated_salary</th>\n",
       "      <th>Exited</th>\n",
       "    </tr>\n",
       "  </thead>\n",
       "  <tbody>\n",
       "    <tr>\n",
       "      <th>0</th>\n",
       "      <td>619</td>\n",
       "      <td>France</td>\n",
       "      <td>Female</td>\n",
       "      <td>42</td>\n",
       "      <td>2.0</td>\n",
       "      <td>0.00</td>\n",
       "      <td>1</td>\n",
       "      <td>1</td>\n",
       "      <td>1</td>\n",
       "      <td>101348.88</td>\n",
       "      <td>1</td>\n",
       "    </tr>\n",
       "    <tr>\n",
       "      <th>1</th>\n",
       "      <td>608</td>\n",
       "      <td>Spain</td>\n",
       "      <td>Female</td>\n",
       "      <td>41</td>\n",
       "      <td>1.0</td>\n",
       "      <td>83807.86</td>\n",
       "      <td>1</td>\n",
       "      <td>0</td>\n",
       "      <td>1</td>\n",
       "      <td>112542.58</td>\n",
       "      <td>0</td>\n",
       "    </tr>\n",
       "    <tr>\n",
       "      <th>2</th>\n",
       "      <td>502</td>\n",
       "      <td>France</td>\n",
       "      <td>Female</td>\n",
       "      <td>42</td>\n",
       "      <td>8.0</td>\n",
       "      <td>159660.80</td>\n",
       "      <td>3</td>\n",
       "      <td>1</td>\n",
       "      <td>0</td>\n",
       "      <td>113931.57</td>\n",
       "      <td>1</td>\n",
       "    </tr>\n",
       "    <tr>\n",
       "      <th>3</th>\n",
       "      <td>699</td>\n",
       "      <td>France</td>\n",
       "      <td>Female</td>\n",
       "      <td>39</td>\n",
       "      <td>1.0</td>\n",
       "      <td>0.00</td>\n",
       "      <td>2</td>\n",
       "      <td>0</td>\n",
       "      <td>0</td>\n",
       "      <td>93826.63</td>\n",
       "      <td>0</td>\n",
       "    </tr>\n",
       "    <tr>\n",
       "      <th>4</th>\n",
       "      <td>850</td>\n",
       "      <td>Spain</td>\n",
       "      <td>Female</td>\n",
       "      <td>43</td>\n",
       "      <td>2.0</td>\n",
       "      <td>125510.82</td>\n",
       "      <td>1</td>\n",
       "      <td>1</td>\n",
       "      <td>1</td>\n",
       "      <td>79084.10</td>\n",
       "      <td>0</td>\n",
       "    </tr>\n",
       "  </tbody>\n",
       "</table>\n",
       "</div>"
      ],
      "text/plain": [
       "   credit_score Geography  Gender  Age  Tenure    Balance  num_of_products  \\\n",
       "0           619    France  Female   42     2.0       0.00                1   \n",
       "1           608     Spain  Female   41     1.0   83807.86                1   \n",
       "2           502    France  Female   42     8.0  159660.80                3   \n",
       "3           699    France  Female   39     1.0       0.00                2   \n",
       "4           850     Spain  Female   43     2.0  125510.82                1   \n",
       "\n",
       "   has_cr_card  is_active_member  estimated_salary  Exited  \n",
       "0            1                 1         101348.88       1  \n",
       "1            0                 1         112542.58       0  \n",
       "2            1                 0         113931.57       1  \n",
       "3            0                 0          93826.63       0  \n",
       "4            1                 1          79084.10       0  "
      ]
     },
     "execution_count": 5,
     "metadata": {},
     "output_type": "execute_result"
    }
   ],
   "source": [
    "df_good = df_good.rename(columns={'CreditScore':'credit_score',\n",
    "                                  'NumOfProducts':'num_of_products',\n",
    "                                  'HasCrCard':'has_cr_card',\n",
    "                                  'IsActiveMember':'is_active_member',\n",
    "                                  'EstimatedSalary': 'estimated_salary'\n",
    "                                 })\n",
    "df_good.head()"
   ]
  },
  {
   "cell_type": "code",
   "execution_count": 6,
   "metadata": {},
   "outputs": [
    {
     "data": {
      "text/plain": [
       "909"
      ]
     },
     "execution_count": 6,
     "metadata": {},
     "output_type": "execute_result"
    }
   ],
   "source": [
    "df_good['Tenure'].isna().sum()"
   ]
  },
  {
   "cell_type": "code",
   "execution_count": 7,
   "metadata": {},
   "outputs": [],
   "source": [
    "df_good['Tenure'].fillna(df_good['Tenure'].median(), inplace=True)"
   ]
  },
  {
   "cell_type": "code",
   "execution_count": 8,
   "metadata": {},
   "outputs": [],
   "source": [
    "df_good['Tenure'] = df_good['Tenure'].astype('int')"
   ]
  },
  {
   "cell_type": "code",
   "execution_count": 9,
   "metadata": {},
   "outputs": [
    {
     "name": "stdout",
     "output_type": "stream",
     "text": [
      "<class 'pandas.core.frame.DataFrame'>\n",
      "RangeIndex: 10000 entries, 0 to 9999\n",
      "Data columns (total 11 columns):\n",
      " #   Column            Non-Null Count  Dtype  \n",
      "---  ------            --------------  -----  \n",
      " 0   credit_score      10000 non-null  int64  \n",
      " 1   Geography         10000 non-null  object \n",
      " 2   Gender            10000 non-null  object \n",
      " 3   Age               10000 non-null  int64  \n",
      " 4   Tenure            10000 non-null  int64  \n",
      " 5   Balance           10000 non-null  float64\n",
      " 6   num_of_products   10000 non-null  int64  \n",
      " 7   has_cr_card       10000 non-null  int64  \n",
      " 8   is_active_member  10000 non-null  int64  \n",
      " 9   estimated_salary  10000 non-null  float64\n",
      " 10  Exited            10000 non-null  int64  \n",
      "dtypes: float64(2), int64(7), object(2)\n",
      "memory usage: 859.5+ KB\n"
     ]
    }
   ],
   "source": [
    "df_good.info()"
   ]
  },
  {
   "cell_type": "markdown",
   "metadata": {},
   "source": [
    "Анализ показал, что столбец \"Tenure\" содержит пропуски. Мы их заполнили медианным значением, с целью минимизации ошибки в дальнейшем обучении модели."
   ]
  },
  {
   "cell_type": "code",
   "execution_count": 10,
   "metadata": {},
   "outputs": [
    {
     "data": {
      "text/plain": [
       "0"
      ]
     },
     "execution_count": 10,
     "metadata": {},
     "output_type": "execute_result"
    }
   ],
   "source": [
    "df.duplicated().sum()"
   ]
  },
  {
   "cell_type": "markdown",
   "metadata": {},
   "source": [
    "## Исследование задачи"
   ]
  },
  {
   "cell_type": "markdown",
   "metadata": {},
   "source": [
    "Подготовим данные для дальнейшего обучения"
   ]
  },
  {
   "cell_type": "code",
   "execution_count": 11,
   "metadata": {},
   "outputs": [
    {
     "data": {
      "text/html": [
       "<div>\n",
       "<style scoped>\n",
       "    .dataframe tbody tr th:only-of-type {\n",
       "        vertical-align: middle;\n",
       "    }\n",
       "\n",
       "    .dataframe tbody tr th {\n",
       "        vertical-align: top;\n",
       "    }\n",
       "\n",
       "    .dataframe thead th {\n",
       "        text-align: right;\n",
       "    }\n",
       "</style>\n",
       "<table border=\"1\" class=\"dataframe\">\n",
       "  <thead>\n",
       "    <tr style=\"text-align: right;\">\n",
       "      <th></th>\n",
       "      <th>credit_score</th>\n",
       "      <th>Age</th>\n",
       "      <th>Tenure</th>\n",
       "      <th>Balance</th>\n",
       "      <th>num_of_products</th>\n",
       "      <th>has_cr_card</th>\n",
       "      <th>is_active_member</th>\n",
       "      <th>estimated_salary</th>\n",
       "      <th>Exited</th>\n",
       "      <th>Geography_Germany</th>\n",
       "      <th>Geography_Spain</th>\n",
       "      <th>Gender_Male</th>\n",
       "    </tr>\n",
       "  </thead>\n",
       "  <tbody>\n",
       "    <tr>\n",
       "      <th>0</th>\n",
       "      <td>619</td>\n",
       "      <td>42</td>\n",
       "      <td>2</td>\n",
       "      <td>0.00</td>\n",
       "      <td>1</td>\n",
       "      <td>1</td>\n",
       "      <td>1</td>\n",
       "      <td>101348.88</td>\n",
       "      <td>1</td>\n",
       "      <td>0</td>\n",
       "      <td>0</td>\n",
       "      <td>0</td>\n",
       "    </tr>\n",
       "    <tr>\n",
       "      <th>1</th>\n",
       "      <td>608</td>\n",
       "      <td>41</td>\n",
       "      <td>1</td>\n",
       "      <td>83807.86</td>\n",
       "      <td>1</td>\n",
       "      <td>0</td>\n",
       "      <td>1</td>\n",
       "      <td>112542.58</td>\n",
       "      <td>0</td>\n",
       "      <td>0</td>\n",
       "      <td>1</td>\n",
       "      <td>0</td>\n",
       "    </tr>\n",
       "    <tr>\n",
       "      <th>2</th>\n",
       "      <td>502</td>\n",
       "      <td>42</td>\n",
       "      <td>8</td>\n",
       "      <td>159660.80</td>\n",
       "      <td>3</td>\n",
       "      <td>1</td>\n",
       "      <td>0</td>\n",
       "      <td>113931.57</td>\n",
       "      <td>1</td>\n",
       "      <td>0</td>\n",
       "      <td>0</td>\n",
       "      <td>0</td>\n",
       "    </tr>\n",
       "    <tr>\n",
       "      <th>3</th>\n",
       "      <td>699</td>\n",
       "      <td>39</td>\n",
       "      <td>1</td>\n",
       "      <td>0.00</td>\n",
       "      <td>2</td>\n",
       "      <td>0</td>\n",
       "      <td>0</td>\n",
       "      <td>93826.63</td>\n",
       "      <td>0</td>\n",
       "      <td>0</td>\n",
       "      <td>0</td>\n",
       "      <td>0</td>\n",
       "    </tr>\n",
       "    <tr>\n",
       "      <th>4</th>\n",
       "      <td>850</td>\n",
       "      <td>43</td>\n",
       "      <td>2</td>\n",
       "      <td>125510.82</td>\n",
       "      <td>1</td>\n",
       "      <td>1</td>\n",
       "      <td>1</td>\n",
       "      <td>79084.10</td>\n",
       "      <td>0</td>\n",
       "      <td>0</td>\n",
       "      <td>1</td>\n",
       "      <td>0</td>\n",
       "    </tr>\n",
       "  </tbody>\n",
       "</table>\n",
       "</div>"
      ],
      "text/plain": [
       "   credit_score  Age  Tenure    Balance  num_of_products  has_cr_card  \\\n",
       "0           619   42       2       0.00                1            1   \n",
       "1           608   41       1   83807.86                1            0   \n",
       "2           502   42       8  159660.80                3            1   \n",
       "3           699   39       1       0.00                2            0   \n",
       "4           850   43       2  125510.82                1            1   \n",
       "\n",
       "   is_active_member  estimated_salary  Exited  Geography_Germany  \\\n",
       "0                 1         101348.88       1                  0   \n",
       "1                 1         112542.58       0                  0   \n",
       "2                 0         113931.57       1                  0   \n",
       "3                 0          93826.63       0                  0   \n",
       "4                 1          79084.10       0                  0   \n",
       "\n",
       "   Geography_Spain  Gender_Male  \n",
       "0                0            0  \n",
       "1                1            0  \n",
       "2                0            0  \n",
       "3                0            0  \n",
       "4                1            0  "
      ]
     },
     "execution_count": 11,
     "metadata": {},
     "output_type": "execute_result"
    }
   ],
   "source": [
    "df_good = pd.get_dummies(df_good, drop_first=True)\n",
    "df_good.head()"
   ]
  },
  {
   "cell_type": "markdown",
   "metadata": {},
   "source": [
    "В новом датафрейме видно, что столбец Geography содержал 3 класса, Gender_Male 2 класса \n",
    "Далее необходимо сформировать обучающую, валидационную и тестовую выборки"
   ]
  },
  {
   "cell_type": "code",
   "execution_count": 12,
   "metadata": {},
   "outputs": [
    {
     "name": "stdout",
     "output_type": "stream",
     "text": [
      "Тренировочная: (6000, 11)\n",
      "Валидационная: (2000, 11)\n",
      "Тестовая: (2000, 11)\n"
     ]
    }
   ],
   "source": [
    "#создаю переменные для признаков и целевого признака:\n",
    "features = df_good.drop(['Exited'], axis=1)\n",
    "target = df_good['Exited']\n",
    "\n",
    "#разделяю данные на обучающую и валидационную выборки в соотношении 60/40:\n",
    "features_train, features_valid, target_train, target_valid = train_test_split(features,\n",
    "                                                                              target, test_size=0.4,\n",
    "                                                                              random_state=12345)\n",
    "\n",
    "#разделяю валидационную выборку на валидационную и тестовую в соотношении 20/20:\n",
    "features_test, features_valid, target_test, target_valid = train_test_split(features_valid,\n",
    "                                                                            target_valid, test_size=0.5,\n",
    "                                                                            random_state=12345)\n",
    "print('Тренировочная:', features_train.shape)\n",
    "print('Валидационная:', features_valid.shape)\n",
    "print('Тестовая:', features_test.shape)\n"
   ]
  },
  {
   "cell_type": "code",
   "execution_count": 13,
   "metadata": {},
   "outputs": [
    {
     "data": {
      "text/html": [
       "<style>#sk-container-id-1 {color: black;background-color: white;}#sk-container-id-1 pre{padding: 0;}#sk-container-id-1 div.sk-toggleable {background-color: white;}#sk-container-id-1 label.sk-toggleable__label {cursor: pointer;display: block;width: 100%;margin-bottom: 0;padding: 0.3em;box-sizing: border-box;text-align: center;}#sk-container-id-1 label.sk-toggleable__label-arrow:before {content: \"▸\";float: left;margin-right: 0.25em;color: #696969;}#sk-container-id-1 label.sk-toggleable__label-arrow:hover:before {color: black;}#sk-container-id-1 div.sk-estimator:hover label.sk-toggleable__label-arrow:before {color: black;}#sk-container-id-1 div.sk-toggleable__content {max-height: 0;max-width: 0;overflow: hidden;text-align: left;background-color: #f0f8ff;}#sk-container-id-1 div.sk-toggleable__content pre {margin: 0.2em;color: black;border-radius: 0.25em;background-color: #f0f8ff;}#sk-container-id-1 input.sk-toggleable__control:checked~div.sk-toggleable__content {max-height: 200px;max-width: 100%;overflow: auto;}#sk-container-id-1 input.sk-toggleable__control:checked~label.sk-toggleable__label-arrow:before {content: \"▾\";}#sk-container-id-1 div.sk-estimator input.sk-toggleable__control:checked~label.sk-toggleable__label {background-color: #d4ebff;}#sk-container-id-1 div.sk-label input.sk-toggleable__control:checked~label.sk-toggleable__label {background-color: #d4ebff;}#sk-container-id-1 input.sk-hidden--visually {border: 0;clip: rect(1px 1px 1px 1px);clip: rect(1px, 1px, 1px, 1px);height: 1px;margin: -1px;overflow: hidden;padding: 0;position: absolute;width: 1px;}#sk-container-id-1 div.sk-estimator {font-family: monospace;background-color: #f0f8ff;border: 1px dotted black;border-radius: 0.25em;box-sizing: border-box;margin-bottom: 0.5em;}#sk-container-id-1 div.sk-estimator:hover {background-color: #d4ebff;}#sk-container-id-1 div.sk-parallel-item::after {content: \"\";width: 100%;border-bottom: 1px solid gray;flex-grow: 1;}#sk-container-id-1 div.sk-label:hover label.sk-toggleable__label {background-color: #d4ebff;}#sk-container-id-1 div.sk-serial::before {content: \"\";position: absolute;border-left: 1px solid gray;box-sizing: border-box;top: 0;bottom: 0;left: 50%;z-index: 0;}#sk-container-id-1 div.sk-serial {display: flex;flex-direction: column;align-items: center;background-color: white;padding-right: 0.2em;padding-left: 0.2em;position: relative;}#sk-container-id-1 div.sk-item {position: relative;z-index: 1;}#sk-container-id-1 div.sk-parallel {display: flex;align-items: stretch;justify-content: center;background-color: white;position: relative;}#sk-container-id-1 div.sk-item::before, #sk-container-id-1 div.sk-parallel-item::before {content: \"\";position: absolute;border-left: 1px solid gray;box-sizing: border-box;top: 0;bottom: 0;left: 50%;z-index: -1;}#sk-container-id-1 div.sk-parallel-item {display: flex;flex-direction: column;z-index: 1;position: relative;background-color: white;}#sk-container-id-1 div.sk-parallel-item:first-child::after {align-self: flex-end;width: 50%;}#sk-container-id-1 div.sk-parallel-item:last-child::after {align-self: flex-start;width: 50%;}#sk-container-id-1 div.sk-parallel-item:only-child::after {width: 0;}#sk-container-id-1 div.sk-dashed-wrapped {border: 1px dashed gray;margin: 0 0.4em 0.5em 0.4em;box-sizing: border-box;padding-bottom: 0.4em;background-color: white;}#sk-container-id-1 div.sk-label label {font-family: monospace;font-weight: bold;display: inline-block;line-height: 1.2em;}#sk-container-id-1 div.sk-label-container {text-align: center;}#sk-container-id-1 div.sk-container {/* jupyter's `normalize.less` sets `[hidden] { display: none; }` but bootstrap.min.css set `[hidden] { display: none !important; }` so we also need the `!important` here to be able to override the default hidden behavior on the sphinx rendered scikit-learn.org. See: https://github.com/scikit-learn/scikit-learn/issues/21755 */display: inline-block !important;position: relative;}#sk-container-id-1 div.sk-text-repr-fallback {display: none;}</style><div id=\"sk-container-id-1\" class=\"sk-top-container\"><div class=\"sk-text-repr-fallback\"><pre>StandardScaler()</pre><b>In a Jupyter environment, please rerun this cell to show the HTML representation or trust the notebook. <br />On GitHub, the HTML representation is unable to render, please try loading this page with nbviewer.org.</b></div><div class=\"sk-container\" hidden><div class=\"sk-item\"><div class=\"sk-estimator sk-toggleable\"><input class=\"sk-toggleable__control sk-hidden--visually\" id=\"sk-estimator-id-1\" type=\"checkbox\" checked><label for=\"sk-estimator-id-1\" class=\"sk-toggleable__label sk-toggleable__label-arrow\">StandardScaler</label><div class=\"sk-toggleable__content\"><pre>StandardScaler()</pre></div></div></div></div></div>"
      ],
      "text/plain": [
       "StandardScaler()"
      ]
     },
     "execution_count": 13,
     "metadata": {},
     "output_type": "execute_result"
    }
   ],
   "source": [
    "numeric = ['credit_score', 'Age', 'Tenure', 'Balance', 'num_of_products', 'estimated_salary']\n",
    "scaler = StandardScaler()\n",
    "scaler.fit(features_train[numeric])"
   ]
  },
  {
   "cell_type": "code",
   "execution_count": 14,
   "metadata": {},
   "outputs": [],
   "source": [
    "features_train[numeric] = scaler.transform(features_train[numeric])\n",
    "features_valid[numeric] = scaler.transform(features_valid[numeric])\n",
    "features_test[numeric] = scaler.transform(features_test[numeric])"
   ]
  },
  {
   "cell_type": "markdown",
   "metadata": {},
   "source": [
    "После того, как мы получили масштабированные признаки для трех выборок, перейдем к обучению моделей."
   ]
  },
  {
   "cell_type": "code",
   "execution_count": 15,
   "metadata": {},
   "outputs": [
    {
     "name": "stdout",
     "output_type": "stream",
     "text": [
      "max_depth: 1 F1: 0.0\n",
      "max_depth: 2 F1: 0.4986301369863014\n",
      "max_depth: 3 F1: 0.3795620437956204\n",
      "max_depth: 4 F1: 0.48307692307692307\n",
      "max_depth: 5 F1: 0.5015772870662459\n",
      "max_depth: 6 F1: 0.5253456221198156\n",
      "max_depth: 7 F1: 0.5045592705167173\n",
      "max_depth: 8 F1: 0.4976958525345621\n",
      "max_depth: 9 F1: 0.5263157894736842\n",
      "max_depth: 10 F1: 0.4999999999999999\n",
      "max_depth: 11 F1: 0.5067024128686327\n",
      "max_depth: 12 F1: 0.4869109947643979\n",
      "max_depth: 13 F1: 0.4869791666666667\n",
      "max_depth: 14 F1: 0.48415716096324457\n"
     ]
    }
   ],
   "source": [
    "for depth in range(1,15,1):\n",
    "    model_tree=DecisionTreeClassifier(max_depth=depth,random_state=1234).fit(features_train,target_train)\n",
    "    prediction=model_tree.predict(features_valid)\n",
    "    print('max_depth:',depth,'F1:',f1_score(target_valid,prediction))"
   ]
  },
  {
   "cell_type": "code",
   "execution_count": 16,
   "metadata": {},
   "outputs": [
    {
     "name": "stdout",
     "output_type": "stream",
     "text": [
      "AUC-ROC = 0.6883802473799641\n"
     ]
    }
   ],
   "source": [
    "probabilities_tree=model_tree.predict_proba(features_valid)\n",
    "probabilities_one_valid_tree=probabilities_tree[:,1]\n",
    "fpr_tree,tpr_tree,thresholds=roc_curve(target_valid,probabilities_one_valid_tree)\n",
    "auc_roc_tree=roc_auc_score(target_valid,probabilities_one_valid_tree)\n",
    "print('AUC-ROC =', auc_roc_tree)"
   ]
  },
  {
   "cell_type": "markdown",
   "metadata": {},
   "source": [
    "Обучение с помощью \"дерева решений\" показало лучшее значение max_depth=9, при котором F1=0,5263. AUC-ROC = 0.6884. Далее, обучение методом \"случайный лес\""
   ]
  },
  {
   "cell_type": "code",
   "execution_count": 17,
   "metadata": {},
   "outputs": [
    {
     "name": "stdout",
     "output_type": "stream",
     "text": [
      "max_depth: 1 F1: 0.0\n",
      "max_depth: 2 F1: 0.16738197424892703\n",
      "max_depth: 3 F1: 0.21487603305785122\n",
      "max_depth: 4 F1: 0.3005780346820809\n",
      "max_depth: 5 F1: 0.41166380789022305\n",
      "max_depth: 6 F1: 0.47019867549668865\n",
      "max_depth: 7 F1: 0.4727272727272727\n",
      "max_depth: 8 F1: 0.48309178743961356\n",
      "max_depth: 9 F1: 0.49201277955271566\n",
      "max_depth: 10 F1: 0.5040128410914929\n",
      "max_depth: 11 F1: 0.5046728971962616\n",
      "max_depth: 12 F1: 0.5141065830721003\n",
      "max_depth: 13 F1: 0.5390505359877489\n",
      "max_depth: 14 F1: 0.5261538461538461\n",
      "max_depth: 15 F1: 0.542728635682159\n",
      "max_depth: 16 F1: 0.5421686746987953\n",
      "max_depth: 17 F1: 0.5421686746987953\n",
      "max_depth: 18 F1: 0.540785498489426\n",
      "max_depth: 19 F1: 0.5303030303030303\n",
      "max_depth: 20 F1: 0.5248868778280542\n",
      "max_depth: 21 F1: 0.5385779122541604\n",
      "max_depth: 22 F1: 0.5319148936170214\n",
      "max_depth: 23 F1: 0.5245398773006135\n",
      "max_depth: 24 F1: 0.5298621745788668\n"
     ]
    }
   ],
   "source": [
    "for max_depth in range(1,25,1):\n",
    "    model_forest=RandomForestClassifier(max_depth=max_depth,n_estimators=50,random_state=1234).fit(features_train,target_train)\n",
    "    prediction=model_forest.predict(features_valid)\n",
    "    print('max_depth:',max_depth,'F1:',f1_score(target_valid,prediction))"
   ]
  },
  {
   "cell_type": "code",
   "execution_count": 18,
   "metadata": {},
   "outputs": [
    {
     "name": "stdout",
     "output_type": "stream",
     "text": [
      "estim 1 F1: 0.47655259822560203\n",
      "estim 3 F1: 0.5\n",
      "estim 5 F1: 0.5165945165945166\n",
      "estim 7 F1: 0.5087719298245613\n",
      "estim 9 F1: 0.5387994143484627\n",
      "estim 11 F1: 0.5291479820627802\n",
      "estim 13 F1: 0.5398230088495576\n",
      "estim 15 F1: 0.5244444444444445\n",
      "estim 17 F1: 0.5209580838323352\n",
      "estim 19 F1: 0.5233082706766917\n",
      "estim 21 F1: 0.5189681335356601\n",
      "estim 23 F1: 0.5339366515837104\n",
      "estim 25 F1: 0.532724505327245\n",
      "estim 27 F1: 0.5317220543806647\n",
      "estim 29 F1: 0.5266362252663622\n",
      "estim 31 F1: 0.5256797583081572\n",
      "estim 33 F1: 0.5279034690799397\n",
      "estim 35 F1: 0.5365126676602088\n",
      "estim 37 F1: 0.5293233082706768\n",
      "estim 39 F1: 0.5389221556886228\n",
      "estim 41 F1: 0.5367316341829085\n",
      "estim 43 F1: 0.5397301349325337\n",
      "estim 45 F1: 0.5373134328358209\n",
      "estim 47 F1: 0.5468053491827638\n",
      "estim 49 F1: 0.5462686567164179\n",
      "estim 51 F1: 0.5386904761904763\n",
      "estim 53 F1: 0.5389221556886228\n"
     ]
    }
   ],
   "source": [
    "for estim in range(1,55,2):\n",
    "    model_forest=RandomForestClassifier(max_depth=15,n_estimators=estim,random_state=1234).fit(features_train,target_train)\n",
    "    prediction=model_forest.predict(features_valid)\n",
    "    print('estim',estim,'F1:',f1_score(target_valid,prediction))"
   ]
  },
  {
   "cell_type": "code",
   "execution_count": 19,
   "metadata": {},
   "outputs": [
    {
     "name": "stdout",
     "output_type": "stream",
     "text": [
      "AUC-ROC = 0.8419665972587626\n"
     ]
    }
   ],
   "source": [
    "probabilities_forest=model_forest.predict_proba(features_valid)\n",
    "probabilities_one_valid_forest=probabilities_forest[:,1]\n",
    "fpr_forest,tpr_forest,thresholds=roc_curve(target_valid,probabilities_one_valid_forest)\n",
    "auc_roc_forest=roc_auc_score(target_valid,probabilities_one_valid_forest)\n",
    "print('AUC-ROC =', auc_roc_forest)"
   ]
  },
  {
   "cell_type": "markdown",
   "metadata": {},
   "source": [
    "F1 принимает максимальное значение для модели \"случайный лес\" с параметрами max_depth=15 и estim 47 F1= 0.5468. AUC-ROC = 0.8419\n"
   ]
  },
  {
   "cell_type": "markdown",
   "metadata": {},
   "source": [
    "Третий метод- логистическая регрессия"
   ]
  },
  {
   "cell_type": "code",
   "execution_count": 20,
   "metadata": {},
   "outputs": [
    {
     "name": "stdout",
     "output_type": "stream",
     "text": [
      "F1: 0.27177700348432055\n"
     ]
    }
   ],
   "source": [
    "model_logistic=LogisticRegression().fit(features_train,target_train)\n",
    "prediction=model_logistic.predict(features_valid)\n",
    "print('F1:',f1_score(target_valid,prediction))"
   ]
  },
  {
   "cell_type": "code",
   "execution_count": 21,
   "metadata": {},
   "outputs": [
    {
     "name": "stdout",
     "output_type": "stream",
     "text": [
      "AUC-ROC = 0.7387189669465469\n"
     ]
    }
   ],
   "source": [
    "probabilities_reg=model_logistic.predict_proba(features_valid)\n",
    "probabilities_one_valid_reg=probabilities_reg[:,1]\n",
    "fpr_log,tpr_log,thresholds=roc_curve(target_valid,probabilities_one_valid_reg)\n",
    "auc_roc_reg=roc_auc_score(target_valid,probabilities_one_valid_reg)\n",
    "print('AUC-ROC =', auc_roc_reg)"
   ]
  },
  {
   "cell_type": "markdown",
   "metadata": {},
   "source": [
    "F1 = 0.2717, наименьшее значение среди всех моделей, также как и AUC-ROC = 0.7387"
   ]
  },
  {
   "cell_type": "markdown",
   "metadata": {},
   "source": [
    "Без учёта дисбаланса наибольшее значение F1 наблюдается в моделях дерево решений и случайный лес - 0.5468 и 0.5263 соответственно."
   ]
  },
  {
   "cell_type": "markdown",
   "metadata": {},
   "source": [
    "## Борьба с дисбалансом"
   ]
  },
  {
   "cell_type": "markdown",
   "metadata": {},
   "source": [
    "Так как несбалансированность классов напрямую влияет на точность и качество результатов машинного обучения, необходимо ее устранить, увеличив число наблюдений положительного класса"
   ]
  },
  {
   "cell_type": "code",
   "execution_count": 22,
   "metadata": {},
   "outputs": [],
   "source": [
    "\n",
    "def upsample(features, target, repeat):\n",
    "    features_zeros = features[target == 0]\n",
    "    features_ones = features[target == 1]\n",
    "    target_zeros = target[target == 0]\n",
    "    target_ones = target[target == 1]\n",
    "    \n",
    "    features_upsampled = pd.concat([features_zeros] + [features_ones] * repeat)\n",
    "    target_upsampled = pd.concat([target_zeros] + [target_ones] * repeat)\n",
    "    \n",
    "    features_upsampled, target_upsampled = shuffle(features_upsampled, target_upsampled, random_state=12345)\n",
    "    \n",
    "    return features_upsampled, target_upsampled\n",
    "\n",
    "\n",
    "features_upsampled, target_upsampled = upsample(features_train, target_train, 4)"
   ]
  },
  {
   "cell_type": "markdown",
   "metadata": {},
   "source": [
    "## \"Дерево решений\". Циклом ищем лучший гиперпораметр max_depth"
   ]
  },
  {
   "cell_type": "code",
   "execution_count": 23,
   "metadata": {
    "scrolled": true
   },
   "outputs": [
    {
     "name": "stdout",
     "output_type": "stream",
     "text": [
      "max_depth: 1 F1: 0.48514851485148514\n",
      "max_depth: 2 F1: 0.5129682997118156\n",
      "max_depth: 3 F1: 0.5129682997118156\n",
      "max_depth: 4 F1: 0.5385239253852393\n",
      "max_depth: 5 F1: 0.5809128630705395\n",
      "max_depth: 6 F1: 0.5643835616438356\n",
      "max_depth: 7 F1: 0.5618408437200384\n",
      "max_depth: 8 F1: 0.550046772684752\n",
      "max_depth: 9 F1: 0.5428015564202334\n",
      "max_depth: 10 F1: 0.5254074784276127\n",
      "max_depth: 11 F1: 0.5173824130879346\n",
      "max_depth: 12 F1: 0.531540847983454\n",
      "max_depth: 13 F1: 0.5222101841820151\n",
      "max_depth: 14 F1: 0.5237020316027088\n",
      "max_depth: 15 F1: 0.5051903114186851\n",
      "max_depth: 16 F1: 0.5011709601873535\n",
      "max_depth: 17 F1: 0.5047393364928909\n",
      "max_depth: 18 F1: 0.5\n",
      "max_depth: 19 F1: 0.4993849938499385\n",
      "max_depth: 20 F1: 0.47466007416563655\n",
      "max_depth: 21 F1: 0.4814814814814815\n",
      "max_depth: 22 F1: 0.4920828258221681\n",
      "max_depth: 23 F1: 0.47735618115055084\n",
      "max_depth: 24 F1: 0.47735618115055084\n",
      "max_depth: 25 F1: 0.47735618115055084\n",
      "max_depth: 26 F1: 0.47735618115055084\n",
      "max_depth: 27 F1: 0.47735618115055084\n",
      "max_depth: 28 F1: 0.47735618115055084\n",
      "max_depth: 29 F1: 0.47735618115055084\n",
      "max_depth: 30 F1: 0.47735618115055084\n",
      "max_depth: 31 F1: 0.47735618115055084\n",
      "max_depth: 32 F1: 0.47735618115055084\n",
      "max_depth: 33 F1: 0.47735618115055084\n",
      "max_depth: 34 F1: 0.47735618115055084\n",
      "max_depth: 35 F1: 0.47735618115055084\n",
      "max_depth: 36 F1: 0.47735618115055084\n",
      "max_depth: 37 F1: 0.47735618115055084\n",
      "max_depth: 38 F1: 0.47735618115055084\n",
      "max_depth: 39 F1: 0.47735618115055084\n",
      "max_depth: 40 F1: 0.47735618115055084\n",
      "max_depth: 41 F1: 0.47735618115055084\n",
      "max_depth: 42 F1: 0.47735618115055084\n",
      "max_depth: 43 F1: 0.47735618115055084\n",
      "max_depth: 44 F1: 0.47735618115055084\n",
      "max_depth: 45 F1: 0.47735618115055084\n",
      "max_depth: 46 F1: 0.47735618115055084\n",
      "max_depth: 47 F1: 0.47735618115055084\n",
      "max_depth: 48 F1: 0.47735618115055084\n",
      "max_depth: 49 F1: 0.47735618115055084\n",
      "max_depth: 50 F1: 0.47735618115055084\n",
      "max_depth: 51 F1: 0.47735618115055084\n",
      "max_depth: 52 F1: 0.47735618115055084\n",
      "max_depth: 53 F1: 0.47735618115055084\n",
      "max_depth: 54 F1: 0.47735618115055084\n",
      "max_depth: 55 F1: 0.47735618115055084\n",
      "max_depth: 56 F1: 0.47735618115055084\n",
      "max_depth: 57 F1: 0.47735618115055084\n",
      "max_depth: 58 F1: 0.47735618115055084\n",
      "max_depth: 59 F1: 0.47735618115055084\n",
      "max_depth: 60 F1: 0.47735618115055084\n",
      "max_depth: 61 F1: 0.47735618115055084\n",
      "max_depth: 62 F1: 0.47735618115055084\n",
      "max_depth: 63 F1: 0.47735618115055084\n",
      "max_depth: 64 F1: 0.47735618115055084\n",
      "max_depth: 65 F1: 0.47735618115055084\n",
      "max_depth: 66 F1: 0.47735618115055084\n",
      "max_depth: 67 F1: 0.47735618115055084\n",
      "max_depth: 68 F1: 0.47735618115055084\n",
      "max_depth: 69 F1: 0.47735618115055084\n",
      "max_depth: 70 F1: 0.47735618115055084\n",
      "max_depth: 71 F1: 0.47735618115055084\n",
      "max_depth: 72 F1: 0.47735618115055084\n",
      "max_depth: 73 F1: 0.47735618115055084\n",
      "max_depth: 74 F1: 0.47735618115055084\n",
      "CPU times: user 2.68 s, sys: 23.9 ms, total: 2.7 s\n",
      "Wall time: 2.73 s\n"
     ]
    }
   ],
   "source": [
    "%%time\n",
    "\n",
    "for depth in range(1,75,1):\n",
    "    model_tree=DecisionTreeClassifier(class_weight='balanced',max_depth=depth,random_state=1234).fit(features_upsampled,target_upsampled)\n",
    "  \n",
    "    prediction=model_tree.predict(features_valid)\n",
    "    print('max_depth:',depth,'F1:',f1_score(target_valid,prediction))"
   ]
  },
  {
   "cell_type": "code",
   "execution_count": 24,
   "metadata": {},
   "outputs": [
    {
     "name": "stdout",
     "output_type": "stream",
     "text": [
      "AUC-ROC = 0.6674019707047676\n"
     ]
    }
   ],
   "source": [
    "probabilities_tree=model_tree.predict_proba(features_valid)\n",
    "probabilities_one_valid_tree=probabilities_tree[:,1]\n",
    "fpr_tree,tpr_tree,thresholds=roc_curve(target_valid,probabilities_one_valid_tree)\n",
    "auc_roc_tree=roc_auc_score(target_valid,probabilities_one_valid_tree)\n",
    "print('AUC-ROC =', auc_roc_tree)"
   ]
  },
  {
   "cell_type": "markdown",
   "metadata": {},
   "source": [
    "При увеличении выборки для \"дерева решений\" параметр F1 удалось увеличить до 0,5809, значение AUC-ROC равно 0.6718"
   ]
  },
  {
   "cell_type": "code",
   "execution_count": 25,
   "metadata": {
    "scrolled": true
   },
   "outputs": [
    {
     "name": "stdout",
     "output_type": "stream",
     "text": [
      "max_depth: 1 F1: 0.5383211678832117\n",
      "max_depth: 2 F1: 0.5547169811320756\n",
      "max_depth: 3 F1: 0.5700197238658776\n",
      "max_depth: 4 F1: 0.5802816901408451\n",
      "max_depth: 5 F1: 0.5971014492753624\n",
      "max_depth: 6 F1: 0.6053412462908012\n",
      "max_depth: 7 F1: 0.6007984031936128\n",
      "max_depth: 8 F1: 0.612410986775178\n",
      "max_depth: 9 F1: 0.6091476091476091\n",
      "max_depth: 10 F1: 0.6143931256713211\n",
      "max_depth: 11 F1: 0.6089813800657174\n",
      "max_depth: 12 F1: 0.6002317497103128\n",
      "max_depth: 13 F1: 0.5992779783393501\n",
      "max_depth: 14 F1: 0.6019900497512438\n",
      "max_depth: 15 F1: 0.5725288831835685\n",
      "max_depth: 16 F1: 0.583547557840617\n",
      "max_depth: 17 F1: 0.5795601552393272\n",
      "max_depth: 18 F1: 0.5846560846560847\n",
      "max_depth: 19 F1: 0.5802139037433155\n",
      "CPU times: user 6.58 s, sys: 31 ms, total: 6.61 s\n",
      "Wall time: 6.64 s\n"
     ]
    }
   ],
   "source": [
    "%%time\n",
    "\n",
    "for max_depth in range(1,20,1):\n",
    "    model_forest=RandomForestClassifier(class_weight='balanced',max_depth=max_depth,n_estimators=50,random_state=1234).fit(features_upsampled,target_upsampled)\n",
    "    prediction=model_forest.predict(features_valid)\n",
    "    print('max_depth:',max_depth,'F1:',f1_score(target_valid,prediction))"
   ]
  },
  {
   "cell_type": "code",
   "execution_count": null,
   "metadata": {},
   "outputs": [
    {
     "name": "stdout",
     "output_type": "stream",
     "text": [
      "estim 1 F1: 0.5378151260504203\n",
      "estim 2 F1: 0.5696969696969697\n",
      "estim 3 F1: 0.5906735751295336\n",
      "estim 4 F1: 0.5924369747899159\n",
      "estim 5 F1: 0.6018808777429466\n",
      "estim 6 F1: 0.6099585062240663\n",
      "estim 7 F1: 0.6084210526315789\n",
      "estim 8 F1: 0.6044071353620146\n",
      "estim 9 F1: 0.6218487394957983\n",
      "estim 10 F1: 0.6204756980351603\n",
      "estim 11 F1: 0.612668743509865\n",
      "estim 12 F1: 0.6104166666666667\n",
      "estim 13 F1: 0.6157068062827226\n",
      "estim 14 F1: 0.608066184074457\n",
      "estim 15 F1: 0.620618556701031\n",
      "estim 16 F1: 0.6043613707165109\n",
      "estim 17 F1: 0.6128364389233955\n",
      "estim 18 F1: 0.608875128998968\n",
      "estim 19 F1: 0.6149068322981367\n",
      "estim 20 F1: 0.6161825726141079\n",
      "estim 21 F1: 0.6093264248704664\n",
      "estim 22 F1: 0.6208333333333332\n",
      "estim 23 F1: 0.6169989506820567\n",
      "estim 24 F1: 0.6165099268547545\n",
      "estim 25 F1: 0.6096033402922756\n",
      "estim 26 F1: 0.6104166666666667\n"
     ]
    }
   ],
   "source": [
    "%%time\n",
    "\n",
    "for estim in range(1,51,1):\n",
    "    model_forest=RandomForestClassifier(class_weight='balanced',max_depth=9,n_estimators=estim,random_state=1234).fit(features_upsampled,target_upsampled)\n",
    "    prediction=model_forest.predict(features_valid)\n",
    "    print('estim',estim,'F1:',f1_score(target_valid,prediction))"
   ]
  },
  {
   "cell_type": "code",
   "execution_count": null,
   "metadata": {},
   "outputs": [],
   "source": [
    "probabilities_forest=model_forest.predict_proba(features_valid)\n",
    "probabilities_one_valid_forest=probabilities_forest[:,1]\n",
    "fpr_forest,tpr_forest,thresholds=roc_curve(target_valid,probabilities_one_valid_forest)\n",
    "auc_roc_forest=roc_auc_score(target_valid,probabilities_one_valid_forest)\n",
    "print('AUC-ROC =', auc_roc_forest)"
   ]
  },
  {
   "cell_type": "markdown",
   "metadata": {},
   "source": [
    "Наибольший показатель при  max_depth: 9 и estim 38 F1= 0.6247"
   ]
  },
  {
   "cell_type": "markdown",
   "metadata": {},
   "source": [
    "Логистическая регрессия"
   ]
  },
  {
   "cell_type": "code",
   "execution_count": null,
   "metadata": {},
   "outputs": [],
   "source": [
    "%%time\n",
    "\n",
    "model_logistic=LogisticRegression(class_weight='balanced',solver='liblinear').fit(features_upsampled,target_upsampled)\n",
    "prediction=model_logistic.predict(features_valid)\n",
    "print('F1:',f1_score(target_valid,prediction))"
   ]
  },
  {
   "cell_type": "code",
   "execution_count": null,
   "metadata": {},
   "outputs": [],
   "source": [
    "probabilities_reg=model_logistic.predict_proba(features_valid)\n",
    "probabilities_one_valid_reg=probabilities_reg[:,1]\n",
    "fpr_log,tpr_log,thresholds=roc_curve(target_valid,probabilities_one_valid_reg)\n",
    "auc_roc_reg=roc_auc_score(target_valid,probabilities_one_valid_reg)\n",
    "print('AUC-ROC =', auc_roc_reg)"
   ]
  },
  {
   "cell_type": "markdown",
   "metadata": {},
   "source": [
    "Уменьшение выборки"
   ]
  },
  {
   "cell_type": "code",
   "execution_count": null,
   "metadata": {},
   "outputs": [],
   "source": [
    "#попробую также сделать объекты частого класса не такими частыми:\n",
    "def downsample(features, target, fraction):\n",
    "    features_zeros = features[target == 0]\n",
    "    features_ones = features[target == 1]\n",
    "    target_zeros = target[target == 0]\n",
    "    target_ones = target[target == 1]\n",
    "\n",
    "    features_downsampled = pd.concat([features_zeros.sample(frac=fraction, random_state=12345)] + [features_ones])\n",
    "    target_downsampled = pd.concat([target_zeros.sample(frac=fraction, random_state=12345)] + [target_ones])\n",
    "    \n",
    "    features_downsampled, target_downsampled = shuffle(features_downsampled, target_downsampled, random_state=12345)\n",
    "    \n",
    "    return features_downsampled, target_downsampled\n",
    "\n",
    "features_downsampled, target_downsampled = downsample(features_train, target_train, 0.25)"
   ]
  },
  {
   "cell_type": "markdown",
   "metadata": {},
   "source": [
    "\"Дерево решений\""
   ]
  },
  {
   "cell_type": "code",
   "execution_count": null,
   "metadata": {},
   "outputs": [],
   "source": [
    "%%time\n",
    "\n",
    "for depth in range(1,75,1):\n",
    "    model_tree=DecisionTreeClassifier(class_weight='balanced',max_depth=depth,random_state=1234).fit(features_downsampled,target_downsampled)\n",
    "  \n",
    "    prediction=model_tree.predict(features_valid)\n",
    "    print('max_depth:',depth,'F1:',f1_score(target_valid,prediction))"
   ]
  },
  {
   "cell_type": "code",
   "execution_count": null,
   "metadata": {},
   "outputs": [],
   "source": [
    "probabilities_tree=model_tree.predict_proba(features_valid)\n",
    "probabilities_one_valid_tree=probabilities_tree[:,1]\n",
    "fpr_tree,tpr_tree,thresholds=roc_curve(target_valid,probabilities_one_valid_tree)\n",
    "auc_roc_tree=roc_auc_score(target_valid,probabilities_one_valid_tree)\n",
    "print('AUC-ROC =', auc_roc_tree)"
   ]
  },
  {
   "cell_type": "markdown",
   "metadata": {},
   "source": [
    "Параметр F1 удалось увеличить еще на несколько %, при max_depth: 5 F1= 0.6093"
   ]
  },
  {
   "cell_type": "markdown",
   "metadata": {},
   "source": [
    "\"Случайный лес\""
   ]
  },
  {
   "cell_type": "code",
   "execution_count": null,
   "metadata": {},
   "outputs": [],
   "source": [
    "%%time\n",
    "\n",
    "for max_depth in range(1,20,1):\n",
    "    model_forest=RandomForestClassifier(class_weight='balanced',max_depth=max_depth,n_estimators=50,random_state=1234).fit(features_downsampled,target_downsampled)\n",
    "    prediction=model_forest.predict(features_valid)\n",
    "    print('max_depth:',max_depth,'F1:',f1_score(target_valid,prediction))"
   ]
  },
  {
   "cell_type": "code",
   "execution_count": null,
   "metadata": {},
   "outputs": [],
   "source": [
    "%%time\n",
    "\n",
    "for estim in range(1,51,1):\n",
    "    model_forest=RandomForestClassifier(class_weight='balanced',max_depth=6,n_estimators=estim,random_state=1234).fit(features_downsampled,target_downsampled)\n",
    "    prediction=model_forest.predict(features_valid)\n",
    "    print('estim',estim,'F1:',f1_score(target_valid,prediction))\n",
    "    "
   ]
  },
  {
   "cell_type": "code",
   "execution_count": null,
   "metadata": {},
   "outputs": [],
   "source": [
    "probabilities_forest=model_forest.predict_proba(features_valid)\n",
    "probabilities_one_valid_forest=probabilities_forest[:,1]\n",
    "fpr_forest,tpr_forest,thresholds=roc_curve(target_valid,probabilities_one_valid_forest)\n",
    "auc_roc_forest=roc_auc_score(target_valid,probabilities_one_valid_forest)\n",
    "print('AUC-ROC =', auc_roc_forest)"
   ]
  },
  {
   "cell_type": "markdown",
   "metadata": {},
   "source": [
    "Уменьшение позволило достичь для случайного леса показателя F1= 0.6007 при max_depth: 6 estim 38. AUC-ROC = 0.8418"
   ]
  },
  {
   "cell_type": "markdown",
   "metadata": {},
   "source": [
    "\"Логистическая регрессия\""
   ]
  },
  {
   "cell_type": "code",
   "execution_count": null,
   "metadata": {},
   "outputs": [],
   "source": [
    "%%time\n",
    "\n",
    "model_logistic=LogisticRegression(class_weight='balanced',solver='liblinear').fit(features_downsampled,target_downsampled)\n",
    "prediction=model_logistic.predict(features_valid)\n",
    "print('F1:',f1_score(target_valid,prediction))"
   ]
  },
  {
   "cell_type": "code",
   "execution_count": null,
   "metadata": {},
   "outputs": [],
   "source": [
    "probabilities_reg=model_logistic.predict_proba(features_valid)\n",
    "probabilities_one_valid_reg=probabilities_reg[:,1]\n",
    "fpr_log,tpr_log,thresholds=roc_curve(target_valid,probabilities_one_valid_reg)\n",
    "auc_roc_reg=roc_auc_score(target_valid,probabilities_one_valid_reg)\n",
    "print('AUC-ROC =', auc_roc_reg)"
   ]
  },
  {
   "cell_type": "markdown",
   "metadata": {},
   "source": [
    "Хоть и удалось добиться небольшого увеличения показателя F1, он все равно не удовлетворяет условию задания , т.к. его значение менее 0,59, и составляет 0.4854 "
   ]
  },
  {
   "cell_type": "markdown",
   "metadata": {},
   "source": [
    "Полученные значения F1 и AUC-ROC говорят о том, что наиболее подходящей моделью является \"случайный лес\" после устранения дисбаланса путем увеличения выборки. А именно AUC-ROC = 0.86011, F1= 0.6247"
   ]
  },
  {
   "cell_type": "markdown",
   "metadata": {},
   "source": []
  },
  {
   "cell_type": "markdown",
   "metadata": {},
   "source": [
    "## Тестирование модели"
   ]
  },
  {
   "cell_type": "markdown",
   "metadata": {},
   "source": [
    "Для итогового тестирования объединим выборки train и valid"
   ]
  },
  {
   "cell_type": "code",
   "execution_count": null,
   "metadata": {},
   "outputs": [],
   "source": [
    "features_train_valid = pd.concat([features_train] + [features_valid])\n",
    "target_train_valid = pd.concat([target_train] + [target_valid]) \n",
    "features_upsampled, target_upsampled = upsample(features_train_valid, target_train_valid, 4)\n",
    "\n"
   ]
  },
  {
   "cell_type": "code",
   "execution_count": null,
   "metadata": {},
   "outputs": [],
   "source": [
    "model_rfc_test = RandomForestClassifier(class_weight='balanced', n_estimators=50, max_depth=6, random_state=12345)\n",
    "model_rfc_test.fit(features_upsampled, target_upsampled)\n",
    "predictions_rfc_test = model_rfc_test.predict(features_test)\n",
    "\n",
    "print('F1 =', f1_score(target_test, predictions_rfc_test))\n",
    "print('AUC-ROC =', roc_auc_score(target_test, model_rfc_test.predict_proba(features_test)[:,1]))\n",
    "\n",
    "\n",
    " "
   ]
  },
  {
   "cell_type": "code",
   "execution_count": null,
   "metadata": {},
   "outputs": [],
   "source": []
  },
  {
   "cell_type": "markdown",
   "metadata": {},
   "source": [
    "Чтобы добиться высокой точности и надежности модели была проделана следующая работа:\n",
    "1. Предоставленные данные прошли предобработку, т.е. удалены столбцы с незначительными данными, преобразован тип данных, дубликаты удалены\n",
    "2. Данные разделены на обучающую, валидационную выборки для дальнейшего обучения\n",
    "3. Обучены модели методом \"логистическая регрессия\", \"случайный лес\" и \"дерево решений\", после чего мы избавились от дисбаланса путем увеличения и уменьшения выборок обученных методом \"дерево решений\" и \"случайный лес\", так как именно эти модели показали наибольшее значение параметра F1 и AUC-ROC\n",
    "4. Проведено тестирование выбранной модели\n"
   ]
  },
  {
   "cell_type": "markdown",
   "metadata": {},
   "source": [
    "Итоговое тестирование показало, что увеличение числа наблюдений положительного класса привело к увеличению точности модели (показатель F1 до равен 53% AUC-ROC = 84,91%, и после увеличения соответственно 58,1% И 84.93%)\n",
    "Проверка на тестовой выборке подтвердила, что upsampling помог справиться с дисбалансом классов и удалось увеличить F1 до 60.72%, AUC-ROC до 84.1%.\n",
    "Поскольку F1 - среднее гармоническое полноты и точности (растет только вместе с полнотой и точностью), то увеличение F1 свидетельствует об изменении в алгоритме в лучшую сторону. То есть вероятность ухода клиента из банка меньше вероятности того, что он останется."
   ]
  },
  {
   "cell_type": "code",
   "execution_count": null,
   "metadata": {},
   "outputs": [],
   "source": []
  }
 ],
 "metadata": {
  "ExecuteTimeLog": [
   {
    "duration": 2682,
    "start_time": "2023-09-26T19:24:27.920Z"
   },
   {
    "duration": 96,
    "start_time": "2023-09-26T19:29:12.871Z"
   },
   {
    "duration": 20,
    "start_time": "2023-09-26T19:29:13.267Z"
   },
   {
    "duration": 32,
    "start_time": "2023-09-26T19:30:16.704Z"
   },
   {
    "duration": 5,
    "start_time": "2023-09-26T19:33:56.558Z"
   },
   {
    "duration": 12,
    "start_time": "2023-09-26T19:34:39.627Z"
   },
   {
    "duration": 16,
    "start_time": "2023-09-26T19:34:51.060Z"
   },
   {
    "duration": 13,
    "start_time": "2023-09-26T19:43:13.778Z"
   },
   {
    "duration": 14,
    "start_time": "2023-09-26T19:43:47.050Z"
   },
   {
    "duration": 29,
    "start_time": "2023-09-26T19:44:08.497Z"
   },
   {
    "duration": 4,
    "start_time": "2023-09-26T19:44:10.947Z"
   },
   {
    "duration": 13,
    "start_time": "2023-09-26T19:44:11.481Z"
   },
   {
    "duration": 6,
    "start_time": "2023-09-26T19:45:38.266Z"
   },
   {
    "duration": 3,
    "start_time": "2023-09-26T19:47:03.256Z"
   },
   {
    "duration": 21,
    "start_time": "2023-09-26T19:48:22.836Z"
   },
   {
    "duration": 27,
    "start_time": "2023-09-26T19:48:55.215Z"
   },
   {
    "duration": 12,
    "start_time": "2023-09-26T19:54:26.654Z"
   },
   {
    "duration": 173,
    "start_time": "2023-09-26T19:54:37.332Z"
   },
   {
    "duration": 10,
    "start_time": "2023-09-26T19:55:50.941Z"
   },
   {
    "duration": 12,
    "start_time": "2023-09-26T20:02:37.381Z"
   },
   {
    "duration": 25,
    "start_time": "2023-09-26T20:02:53.417Z"
   },
   {
    "duration": 14,
    "start_time": "2023-09-26T20:03:33.775Z"
   },
   {
    "duration": 14,
    "start_time": "2023-09-26T20:03:44.770Z"
   },
   {
    "duration": 14,
    "start_time": "2023-09-26T20:04:06.762Z"
   },
   {
    "duration": 17,
    "start_time": "2023-09-26T20:04:58.345Z"
   },
   {
    "duration": 20,
    "start_time": "2023-09-26T20:08:58.965Z"
   },
   {
    "duration": 13,
    "start_time": "2023-09-26T20:09:28.281Z"
   },
   {
    "duration": 14,
    "start_time": "2023-09-26T20:11:00.958Z"
   },
   {
    "duration": 14,
    "start_time": "2023-09-26T20:11:02.334Z"
   },
   {
    "duration": 12,
    "start_time": "2023-09-26T20:11:02.960Z"
   },
   {
    "duration": 4,
    "start_time": "2023-09-26T20:11:04.184Z"
   },
   {
    "duration": 14,
    "start_time": "2023-09-26T20:11:04.745Z"
   },
   {
    "duration": 21,
    "start_time": "2023-09-26T20:11:06.374Z"
   },
   {
    "duration": 22,
    "start_time": "2023-09-26T20:11:07.915Z"
   },
   {
    "duration": 9,
    "start_time": "2023-09-26T20:12:26.795Z"
   },
   {
    "duration": 382,
    "start_time": "2023-09-26T20:20:06.855Z"
   },
   {
    "duration": 470,
    "start_time": "2023-09-26T20:21:54.074Z"
   },
   {
    "duration": 18,
    "start_time": "2023-09-26T20:23:12.507Z"
   },
   {
    "duration": 5,
    "start_time": "2023-09-26T20:24:08.694Z"
   },
   {
    "duration": 125,
    "start_time": "2023-09-26T20:24:15.592Z"
   },
   {
    "duration": 37,
    "start_time": "2023-09-26T20:25:07.184Z"
   },
   {
    "duration": 24,
    "start_time": "2023-09-26T20:40:30.254Z"
   },
   {
    "duration": 139,
    "start_time": "2023-09-26T20:40:30.281Z"
   },
   {
    "duration": 18,
    "start_time": "2023-09-26T20:40:30.422Z"
   },
   {
    "duration": 35,
    "start_time": "2023-09-26T20:40:30.442Z"
   },
   {
    "duration": 20,
    "start_time": "2023-09-26T20:40:30.479Z"
   },
   {
    "duration": 31,
    "start_time": "2023-09-26T20:40:30.501Z"
   },
   {
    "duration": 27,
    "start_time": "2023-09-26T20:40:30.534Z"
   },
   {
    "duration": 46,
    "start_time": "2023-09-26T20:40:30.563Z"
   },
   {
    "duration": 38,
    "start_time": "2023-09-26T20:40:30.612Z"
   },
   {
    "duration": 37,
    "start_time": "2023-09-26T20:40:30.652Z"
   },
   {
    "duration": 402,
    "start_time": "2023-09-26T20:40:30.692Z"
   },
   {
    "duration": 131,
    "start_time": "2023-09-26T20:40:31.096Z"
   },
   {
    "duration": 220611,
    "start_time": "2023-09-26T20:40:31.232Z"
   },
   {
    "duration": 13,
    "start_time": "2023-09-26T20:44:11.845Z"
   },
   {
    "duration": 85,
    "start_time": "2023-09-26T20:44:11.860Z"
   },
   {
    "duration": 1231,
    "start_time": "2023-09-26T20:44:11.947Z"
   },
   {
    "duration": 12,
    "start_time": "2023-09-26T20:44:13.180Z"
   },
   {
    "duration": 39,
    "start_time": "2023-09-26T20:44:13.194Z"
   },
   {
    "duration": 459,
    "start_time": "2023-09-26T20:44:13.235Z"
   },
   {
    "duration": 0,
    "start_time": "2023-09-26T20:44:13.725Z"
   },
   {
    "duration": 0,
    "start_time": "2023-09-26T20:44:13.727Z"
   },
   {
    "duration": 0,
    "start_time": "2023-09-26T20:44:13.728Z"
   },
   {
    "duration": 1812,
    "start_time": "2023-10-01T16:18:43.902Z"
   },
   {
    "duration": 82,
    "start_time": "2023-10-01T16:18:46.974Z"
   },
   {
    "duration": 27,
    "start_time": "2023-10-01T16:18:48.339Z"
   },
   {
    "duration": 15,
    "start_time": "2023-10-01T16:18:50.562Z"
   },
   {
    "duration": 16,
    "start_time": "2023-10-01T16:18:51.352Z"
   },
   {
    "duration": 15,
    "start_time": "2023-10-01T16:18:52.457Z"
   },
   {
    "duration": 4,
    "start_time": "2023-10-01T16:18:54.087Z"
   },
   {
    "duration": 13,
    "start_time": "2023-10-01T16:18:54.725Z"
   },
   {
    "duration": 134,
    "start_time": "2023-10-01T16:18:56.590Z"
   },
   {
    "duration": 10,
    "start_time": "2023-10-01T16:18:57.991Z"
   },
   {
    "duration": 31,
    "start_time": "2023-10-01T16:18:59.508Z"
   },
   {
    "duration": 19,
    "start_time": "2023-10-01T16:20:20.884Z"
   },
   {
    "duration": 14,
    "start_time": "2023-10-01T16:20:26.913Z"
   },
   {
    "duration": 32,
    "start_time": "2023-10-01T16:20:32.535Z"
   },
   {
    "duration": 9,
    "start_time": "2023-10-01T16:24:03.444Z"
   },
   {
    "duration": 46,
    "start_time": "2023-10-01T16:24:03.972Z"
   },
   {
    "duration": 21,
    "start_time": "2023-10-01T16:24:04.771Z"
   },
   {
    "duration": 30,
    "start_time": "2023-10-01T16:24:06.242Z"
   },
   {
    "duration": 15,
    "start_time": "2023-10-01T16:24:07.273Z"
   },
   {
    "duration": 12,
    "start_time": "2023-10-01T16:24:08.472Z"
   },
   {
    "duration": 4,
    "start_time": "2023-10-01T16:24:11.490Z"
   },
   {
    "duration": 12,
    "start_time": "2023-10-01T16:24:12.399Z"
   },
   {
    "duration": 20,
    "start_time": "2023-10-01T16:24:14.293Z"
   },
   {
    "duration": 15,
    "start_time": "2023-10-01T16:24:15.612Z"
   },
   {
    "duration": 18,
    "start_time": "2023-10-01T16:24:17.693Z"
   },
   {
    "duration": 34,
    "start_time": "2023-10-01T16:24:36.464Z"
   },
   {
    "duration": 36,
    "start_time": "2023-10-01T16:24:38.826Z"
   },
   {
    "duration": 16,
    "start_time": "2023-10-01T16:26:07.616Z"
   },
   {
    "duration": 13,
    "start_time": "2023-10-01T16:26:13.785Z"
   },
   {
    "duration": 15,
    "start_time": "2023-10-01T16:26:19.283Z"
   },
   {
    "duration": 14,
    "start_time": "2023-10-01T16:26:20.581Z"
   },
   {
    "duration": 14,
    "start_time": "2023-10-01T16:26:21.657Z"
   },
   {
    "duration": 10,
    "start_time": "2023-10-01T16:27:14.905Z"
   },
   {
    "duration": 1277,
    "start_time": "2023-10-01T16:27:39.156Z"
   },
   {
    "duration": 12,
    "start_time": "2023-10-01T16:27:41.203Z"
   },
   {
    "duration": 4,
    "start_time": "2023-10-01T16:28:03.614Z"
   },
   {
    "duration": 15,
    "start_time": "2023-10-01T16:28:05.311Z"
   },
   {
    "duration": 4,
    "start_time": "2023-10-01T16:28:15.113Z"
   },
   {
    "duration": 14,
    "start_time": "2023-10-01T16:28:15.609Z"
   },
   {
    "duration": 19,
    "start_time": "2023-10-01T16:28:17.226Z"
   },
   {
    "duration": 10,
    "start_time": "2023-10-01T16:28:18.569Z"
   },
   {
    "duration": 389,
    "start_time": "2023-10-01T16:28:19.821Z"
   },
   {
    "duration": 82,
    "start_time": "2023-10-01T16:28:31.673Z"
   },
   {
    "duration": 40,
    "start_time": "2023-10-01T16:32:18.814Z"
   },
   {
    "duration": 93,
    "start_time": "2023-10-01T16:33:13.561Z"
   },
   {
    "duration": 5,
    "start_time": "2023-10-01T16:34:03.147Z"
   },
   {
    "duration": 41,
    "start_time": "2023-10-01T16:34:03.660Z"
   },
   {
    "duration": 15,
    "start_time": "2023-10-01T16:34:04.178Z"
   },
   {
    "duration": 18,
    "start_time": "2023-10-01T16:34:05.255Z"
   },
   {
    "duration": 14,
    "start_time": "2023-10-01T16:34:05.775Z"
   },
   {
    "duration": 17,
    "start_time": "2023-10-01T16:34:06.301Z"
   },
   {
    "duration": 13,
    "start_time": "2023-10-01T16:34:06.782Z"
   },
   {
    "duration": 4,
    "start_time": "2023-10-01T16:34:08.108Z"
   },
   {
    "duration": 14,
    "start_time": "2023-10-01T16:34:08.686Z"
   },
   {
    "duration": 19,
    "start_time": "2023-10-01T16:34:10.269Z"
   },
   {
    "duration": 11,
    "start_time": "2023-10-01T16:34:11.445Z"
   },
   {
    "duration": 19,
    "start_time": "2023-10-01T16:34:12.470Z"
   },
   {
    "duration": 30,
    "start_time": "2023-10-01T16:34:14.302Z"
   },
   {
    "duration": 15,
    "start_time": "2023-10-01T16:34:53.386Z"
   },
   {
    "duration": 14,
    "start_time": "2023-10-01T16:35:11.837Z"
   },
   {
    "duration": 15,
    "start_time": "2023-10-01T16:35:13.320Z"
   },
   {
    "duration": 4,
    "start_time": "2023-10-01T16:36:57.315Z"
   },
   {
    "duration": 15,
    "start_time": "2023-10-01T16:37:00.499Z"
   },
   {
    "duration": 5,
    "start_time": "2023-10-01T16:37:05.390Z"
   },
   {
    "duration": 43,
    "start_time": "2023-10-01T16:37:06.084Z"
   },
   {
    "duration": 16,
    "start_time": "2023-10-01T16:37:06.664Z"
   },
   {
    "duration": 15,
    "start_time": "2023-10-01T16:37:08.419Z"
   },
   {
    "duration": 18,
    "start_time": "2023-10-01T16:37:09.016Z"
   },
   {
    "duration": 4,
    "start_time": "2023-10-01T16:37:09.698Z"
   },
   {
    "duration": 16,
    "start_time": "2023-10-01T16:37:10.301Z"
   },
   {
    "duration": 13,
    "start_time": "2023-10-01T16:37:11.402Z"
   },
   {
    "duration": 4,
    "start_time": "2023-10-01T16:37:24.471Z"
   },
   {
    "duration": 13,
    "start_time": "2023-10-01T16:37:24.931Z"
   },
   {
    "duration": 4,
    "start_time": "2023-10-01T16:37:54.726Z"
   },
   {
    "duration": 5,
    "start_time": "2023-10-01T16:37:55.238Z"
   },
   {
    "duration": 17,
    "start_time": "2023-10-01T16:38:02.462Z"
   },
   {
    "duration": 15,
    "start_time": "2023-10-01T16:38:16.027Z"
   },
   {
    "duration": 19,
    "start_time": "2023-10-01T16:38:19.357Z"
   },
   {
    "duration": 11,
    "start_time": "2023-10-01T16:38:20.658Z"
   },
   {
    "duration": 357,
    "start_time": "2023-10-01T16:38:21.435Z"
   },
   {
    "duration": 37,
    "start_time": "2023-10-01T16:38:23.417Z"
   },
   {
    "duration": 205545,
    "start_time": "2023-10-01T16:41:51.197Z"
   },
   {
    "duration": 14,
    "start_time": "2023-10-01T16:52:46.690Z"
   },
   {
    "duration": 48,
    "start_time": "2023-10-01T16:53:49.184Z"
   },
   {
    "duration": 49,
    "start_time": "2023-10-01T16:54:16.178Z"
   },
   {
    "duration": 1128,
    "start_time": "2023-10-01T16:54:17.265Z"
   },
   {
    "duration": 1064,
    "start_time": "2023-10-01T16:54:23.666Z"
   },
   {
    "duration": 1085,
    "start_time": "2023-10-01T16:54:29.033Z"
   },
   {
    "duration": 12,
    "start_time": "2023-10-01T16:54:51.346Z"
   },
   {
    "duration": 24,
    "start_time": "2023-10-01T16:54:52.272Z"
   },
   {
    "duration": 436,
    "start_time": "2023-10-01T16:54:53.854Z"
   },
   {
    "duration": 6,
    "start_time": "2023-10-01T16:57:46.787Z"
   },
   {
    "duration": 12,
    "start_time": "2023-10-01T16:57:47.423Z"
   },
   {
    "duration": 1538,
    "start_time": "2023-10-01T16:57:48.105Z"
   },
   {
    "duration": 16,
    "start_time": "2023-10-01T18:06:52.475Z"
   },
   {
    "duration": 1470,
    "start_time": "2023-10-01T18:06:52.897Z"
   },
   {
    "duration": 5,
    "start_time": "2023-10-01T18:13:12.207Z"
   },
   {
    "duration": 41,
    "start_time": "2023-10-01T18:13:12.691Z"
   },
   {
    "duration": 16,
    "start_time": "2023-10-01T18:13:13.295Z"
   },
   {
    "duration": 20,
    "start_time": "2023-10-01T18:13:14.345Z"
   },
   {
    "duration": 14,
    "start_time": "2023-10-01T18:13:14.810Z"
   },
   {
    "duration": 4,
    "start_time": "2023-10-01T18:13:15.310Z"
   },
   {
    "duration": 5,
    "start_time": "2023-10-01T18:13:15.886Z"
   },
   {
    "duration": 14,
    "start_time": "2023-10-01T18:13:16.404Z"
   },
   {
    "duration": 12,
    "start_time": "2023-10-01T18:13:18.314Z"
   },
   {
    "duration": 26,
    "start_time": "2023-10-01T18:13:19.844Z"
   },
   {
    "duration": 11,
    "start_time": "2023-10-01T18:13:20.904Z"
   },
   {
    "duration": 405,
    "start_time": "2023-10-01T18:13:21.910Z"
   },
   {
    "duration": 82,
    "start_time": "2023-10-01T18:13:22.770Z"
   },
   {
    "duration": 215784,
    "start_time": "2023-10-01T18:13:23.604Z"
   },
   {
    "duration": 12,
    "start_time": "2023-10-01T18:16:59.390Z"
   },
   {
    "duration": 67,
    "start_time": "2023-10-01T18:16:59.404Z"
   },
   {
    "duration": 1129,
    "start_time": "2023-10-01T18:16:59.474Z"
   },
   {
    "duration": 13,
    "start_time": "2023-10-01T18:17:00.605Z"
   },
   {
    "duration": 70,
    "start_time": "2023-10-01T18:17:00.620Z"
   },
   {
    "duration": 480,
    "start_time": "2023-10-01T18:17:00.692Z"
   },
   {
    "duration": 16,
    "start_time": "2023-10-01T18:17:01.173Z"
   },
   {
    "duration": 1537,
    "start_time": "2023-10-01T18:17:01.191Z"
   },
   {
    "duration": 44,
    "start_time": "2023-10-01T18:17:02.731Z"
   },
   {
    "duration": 5056,
    "start_time": "2023-10-01T18:40:07.000Z"
   },
   {
    "duration": 86,
    "start_time": "2023-10-01T18:40:12.058Z"
   },
   {
    "duration": 26,
    "start_time": "2023-10-01T18:40:12.147Z"
   },
   {
    "duration": 32,
    "start_time": "2023-10-01T18:40:12.175Z"
   },
   {
    "duration": 38,
    "start_time": "2023-10-01T18:40:12.210Z"
   },
   {
    "duration": 27,
    "start_time": "2023-10-01T18:40:12.250Z"
   },
   {
    "duration": 17,
    "start_time": "2023-10-01T18:40:12.279Z"
   },
   {
    "duration": 49,
    "start_time": "2023-10-01T18:40:12.298Z"
   },
   {
    "duration": 12,
    "start_time": "2023-10-01T18:40:12.349Z"
   },
   {
    "duration": 28,
    "start_time": "2023-10-01T18:40:12.363Z"
   },
   {
    "duration": 10,
    "start_time": "2023-10-01T18:40:12.393Z"
   },
   {
    "duration": 409,
    "start_time": "2023-10-01T18:40:12.405Z"
   },
   {
    "duration": 236,
    "start_time": "2023-10-01T18:40:12.816Z"
   },
   {
    "duration": 208741,
    "start_time": "2023-10-01T18:40:13.146Z"
   },
   {
    "duration": 14,
    "start_time": "2023-10-01T18:43:41.889Z"
   },
   {
    "duration": 79,
    "start_time": "2023-10-01T18:43:41.905Z"
   },
   {
    "duration": 1135,
    "start_time": "2023-10-01T18:43:41.986Z"
   },
   {
    "duration": 13,
    "start_time": "2023-10-01T18:43:43.123Z"
   },
   {
    "duration": 26,
    "start_time": "2023-10-01T18:43:43.147Z"
   },
   {
    "duration": 465,
    "start_time": "2023-10-01T18:43:43.175Z"
   },
   {
    "duration": 14,
    "start_time": "2023-10-01T18:43:43.646Z"
   },
   {
    "duration": 1457,
    "start_time": "2023-10-01T18:43:43.661Z"
   },
   {
    "duration": 1665,
    "start_time": "2023-10-04T16:03:31.392Z"
   },
   {
    "duration": 120,
    "start_time": "2023-10-04T16:13:24.076Z"
   },
   {
    "duration": 3,
    "start_time": "2023-10-04T16:13:47.451Z"
   },
   {
    "duration": 10,
    "start_time": "2023-10-04T16:13:48.106Z"
   },
   {
    "duration": 5,
    "start_time": "2023-10-04T16:13:53.565Z"
   },
   {
    "duration": 81,
    "start_time": "2023-10-04T16:13:55.024Z"
   },
   {
    "duration": 20,
    "start_time": "2023-10-04T16:13:55.904Z"
   },
   {
    "duration": 15,
    "start_time": "2023-10-04T16:13:57.204Z"
   },
   {
    "duration": 14,
    "start_time": "2023-10-04T16:13:58.553Z"
   },
   {
    "duration": 3,
    "start_time": "2023-10-04T16:14:00.874Z"
   },
   {
    "duration": 6,
    "start_time": "2023-10-04T16:14:01.354Z"
   },
   {
    "duration": 4,
    "start_time": "2023-10-04T16:14:10.606Z"
   },
   {
    "duration": 15,
    "start_time": "2023-10-04T16:14:11.112Z"
   },
   {
    "duration": 9,
    "start_time": "2023-10-04T16:14:50.433Z"
   },
   {
    "duration": 4,
    "start_time": "2023-10-04T16:14:52.094Z"
   },
   {
    "duration": 19,
    "start_time": "2023-10-04T16:14:52.632Z"
   },
   {
    "duration": 4,
    "start_time": "2023-10-04T16:32:30.587Z"
   },
   {
    "duration": 5,
    "start_time": "2023-10-04T16:32:32.152Z"
   },
   {
    "duration": 12,
    "start_time": "2023-10-04T16:32:32.949Z"
   },
   {
    "duration": 23,
    "start_time": "2023-10-04T16:33:32.893Z"
   },
   {
    "duration": 4,
    "start_time": "2023-10-04T16:33:45.075Z"
   },
   {
    "duration": 18,
    "start_time": "2023-10-04T16:33:45.493Z"
   },
   {
    "duration": 5,
    "start_time": "2023-10-04T16:36:20.870Z"
   },
   {
    "duration": 4,
    "start_time": "2023-10-04T16:36:22.463Z"
   },
   {
    "duration": 13,
    "start_time": "2023-10-04T16:36:23.680Z"
   },
   {
    "duration": 4,
    "start_time": "2023-10-04T16:37:19.133Z"
   },
   {
    "duration": 5,
    "start_time": "2023-10-04T16:37:25.919Z"
   },
   {
    "duration": 42,
    "start_time": "2023-10-04T16:37:26.801Z"
   },
   {
    "duration": 15,
    "start_time": "2023-10-04T16:37:27.245Z"
   },
   {
    "duration": 14,
    "start_time": "2023-10-04T16:37:28.192Z"
   },
   {
    "duration": 14,
    "start_time": "2023-10-04T16:37:29.382Z"
   },
   {
    "duration": 3,
    "start_time": "2023-10-04T16:37:31.622Z"
   },
   {
    "duration": 5,
    "start_time": "2023-10-04T16:37:32.047Z"
   },
   {
    "duration": 4,
    "start_time": "2023-10-04T16:37:33.651Z"
   },
   {
    "duration": 13,
    "start_time": "2023-10-04T16:37:34.353Z"
   },
   {
    "duration": 14,
    "start_time": "2023-10-04T16:37:35.669Z"
   },
   {
    "duration": 3,
    "start_time": "2023-10-04T16:37:49.380Z"
   },
   {
    "duration": 4,
    "start_time": "2023-10-04T16:37:50.298Z"
   },
   {
    "duration": 16,
    "start_time": "2023-10-04T16:37:50.766Z"
   },
   {
    "duration": 14,
    "start_time": "2023-10-04T16:37:55.989Z"
   },
   {
    "duration": 4,
    "start_time": "2023-10-04T16:37:57.060Z"
   },
   {
    "duration": 3,
    "start_time": "2023-10-04T16:37:57.600Z"
   },
   {
    "duration": 4,
    "start_time": "2023-10-04T16:37:58.941Z"
   },
   {
    "duration": 13,
    "start_time": "2023-10-04T16:37:59.591Z"
   },
   {
    "duration": 14,
    "start_time": "2023-10-04T16:43:31.684Z"
   },
   {
    "duration": 4,
    "start_time": "2023-10-04T16:43:33.204Z"
   },
   {
    "duration": 5,
    "start_time": "2023-10-04T16:43:37.765Z"
   },
   {
    "duration": 3,
    "start_time": "2023-10-04T16:43:39.137Z"
   },
   {
    "duration": 14,
    "start_time": "2023-10-04T16:44:39.194Z"
   },
   {
    "duration": 3,
    "start_time": "2023-10-04T16:44:42.005Z"
   },
   {
    "duration": 2,
    "start_time": "2023-10-04T16:44:42.465Z"
   },
   {
    "duration": 5,
    "start_time": "2023-10-04T16:44:42.974Z"
   },
   {
    "duration": 3,
    "start_time": "2023-10-04T16:44:44.664Z"
   },
   {
    "duration": 15,
    "start_time": "2023-10-04T16:44:45.494Z"
   },
   {
    "duration": 13,
    "start_time": "2023-10-04T16:44:55.625Z"
   },
   {
    "duration": 19,
    "start_time": "2023-10-04T16:44:57.269Z"
   },
   {
    "duration": 5,
    "start_time": "2023-10-04T16:47:49.122Z"
   },
   {
    "duration": 4,
    "start_time": "2023-10-04T16:48:13.007Z"
   },
   {
    "duration": 43,
    "start_time": "2023-10-04T16:48:13.973Z"
   },
   {
    "duration": 15,
    "start_time": "2023-10-04T16:48:14.481Z"
   },
   {
    "duration": 16,
    "start_time": "2023-10-04T16:48:15.505Z"
   },
   {
    "duration": 15,
    "start_time": "2023-10-04T16:48:16.641Z"
   },
   {
    "duration": 7,
    "start_time": "2023-10-04T16:48:18.092Z"
   },
   {
    "duration": 17,
    "start_time": "2023-10-04T16:48:21.625Z"
   },
   {
    "duration": 4,
    "start_time": "2023-10-04T16:48:42.926Z"
   },
   {
    "duration": 4,
    "start_time": "2023-10-04T16:48:49.776Z"
   },
   {
    "duration": 15,
    "start_time": "2023-10-04T16:48:50.322Z"
   },
   {
    "duration": 12,
    "start_time": "2023-10-04T16:48:54.065Z"
   },
   {
    "duration": 3,
    "start_time": "2023-10-04T16:49:30.456Z"
   },
   {
    "duration": 5,
    "start_time": "2023-10-04T16:49:59.355Z"
   },
   {
    "duration": 16,
    "start_time": "2023-10-04T16:50:00.105Z"
   },
   {
    "duration": 14,
    "start_time": "2023-10-04T16:50:53.855Z"
   },
   {
    "duration": 16,
    "start_time": "2023-10-04T16:51:43.065Z"
   },
   {
    "duration": 19,
    "start_time": "2023-10-04T16:52:46.904Z"
   },
   {
    "duration": 13,
    "start_time": "2023-10-04T16:53:53.734Z"
   },
   {
    "duration": 10,
    "start_time": "2023-10-04T16:54:59.643Z"
   },
   {
    "duration": 15,
    "start_time": "2023-10-04T16:56:27.206Z"
   },
   {
    "duration": 5,
    "start_time": "2023-10-04T16:57:00.525Z"
   },
   {
    "duration": 43,
    "start_time": "2023-10-04T16:57:01.573Z"
   },
   {
    "duration": 18,
    "start_time": "2023-10-04T16:57:02.113Z"
   },
   {
    "duration": 15,
    "start_time": "2023-10-04T16:57:11.194Z"
   },
   {
    "duration": 20,
    "start_time": "2023-10-04T16:57:15.564Z"
   },
   {
    "duration": 5,
    "start_time": "2023-10-04T16:57:17.254Z"
   },
   {
    "duration": 5,
    "start_time": "2023-10-04T16:57:19.993Z"
   },
   {
    "duration": 4,
    "start_time": "2023-10-04T16:57:22.344Z"
   },
   {
    "duration": 14,
    "start_time": "2023-10-04T16:57:23.702Z"
   },
   {
    "duration": 13,
    "start_time": "2023-10-04T16:57:27.754Z"
   },
   {
    "duration": 5,
    "start_time": "2023-10-04T16:57:37.182Z"
   },
   {
    "duration": 13,
    "start_time": "2023-10-04T16:58:05.453Z"
   },
   {
    "duration": 5,
    "start_time": "2023-10-04T17:05:37.335Z"
   },
   {
    "duration": 11,
    "start_time": "2023-10-04T17:05:43.550Z"
   },
   {
    "duration": 19,
    "start_time": "2023-10-04T17:05:45.053Z"
   },
   {
    "duration": 5,
    "start_time": "2023-10-04T17:05:47.407Z"
   },
   {
    "duration": 12,
    "start_time": "2023-10-04T17:06:07.730Z"
   },
   {
    "duration": 14,
    "start_time": "2023-10-04T17:28:38.226Z"
   },
   {
    "duration": 13,
    "start_time": "2023-10-04T17:29:37.606Z"
   },
   {
    "duration": 20,
    "start_time": "2023-10-04T17:29:51.547Z"
   },
   {
    "duration": 14,
    "start_time": "2023-10-04T17:30:00.716Z"
   },
   {
    "duration": 14,
    "start_time": "2023-10-04T17:30:09.822Z"
   },
   {
    "duration": 3,
    "start_time": "2023-10-04T17:30:58.772Z"
   },
   {
    "duration": 15,
    "start_time": "2023-10-04T17:31:33.382Z"
   },
   {
    "duration": 4,
    "start_time": "2023-10-04T17:32:36.297Z"
   },
   {
    "duration": 43,
    "start_time": "2023-10-04T17:32:37.284Z"
   },
   {
    "duration": 16,
    "start_time": "2023-10-04T17:32:37.770Z"
   },
   {
    "duration": 15,
    "start_time": "2023-10-04T17:32:38.773Z"
   },
   {
    "duration": 28,
    "start_time": "2023-10-04T17:32:39.739Z"
   },
   {
    "duration": 5,
    "start_time": "2023-10-04T17:32:40.771Z"
   },
   {
    "duration": 3,
    "start_time": "2023-10-04T17:32:41.270Z"
   },
   {
    "duration": 4,
    "start_time": "2023-10-04T17:32:41.807Z"
   },
   {
    "duration": 4,
    "start_time": "2023-10-04T17:32:42.964Z"
   },
   {
    "duration": 12,
    "start_time": "2023-10-04T17:32:43.526Z"
   },
   {
    "duration": 14,
    "start_time": "2023-10-04T17:32:44.596Z"
   },
   {
    "duration": 21,
    "start_time": "2023-10-04T17:32:46.372Z"
   },
   {
    "duration": 12,
    "start_time": "2023-10-04T17:32:48.677Z"
   },
   {
    "duration": 4,
    "start_time": "2023-10-04T17:32:49.948Z"
   },
   {
    "duration": 20,
    "start_time": "2023-10-04T17:32:50.746Z"
   },
   {
    "duration": 8,
    "start_time": "2023-10-04T17:35:02.680Z"
   },
   {
    "duration": 27,
    "start_time": "2023-10-04T17:35:03.571Z"
   },
   {
    "duration": 418,
    "start_time": "2023-10-04T17:37:43.946Z"
   },
   {
    "duration": 80,
    "start_time": "2023-10-04T17:37:51.686Z"
   },
   {
    "duration": 227866,
    "start_time": "2023-10-04T17:37:54.227Z"
   },
   {
    "duration": 11,
    "start_time": "2023-10-04T17:50:26.131Z"
   },
   {
    "duration": 40,
    "start_time": "2023-10-04T17:50:34.420Z"
   },
   {
    "duration": 11,
    "start_time": "2023-10-04T17:50:36.710Z"
   },
   {
    "duration": 352,
    "start_time": "2023-10-04T17:51:49.879Z"
   },
   {
    "duration": 15,
    "start_time": "2023-10-04T17:58:47.595Z"
   },
   {
    "duration": 133,
    "start_time": "2023-10-04T17:59:44.721Z"
   },
   {
    "duration": 8370,
    "start_time": "2023-10-04T17:59:57.581Z"
   },
   {
    "duration": 6555,
    "start_time": "2023-10-04T18:05:35.613Z"
   },
   {
    "duration": 5955,
    "start_time": "2023-10-04T18:08:10.229Z"
   },
   {
    "duration": 1498,
    "start_time": "2023-10-04T18:25:24.158Z"
   },
   {
    "duration": 11,
    "start_time": "2023-10-04T18:29:16.820Z"
   },
   {
    "duration": 42,
    "start_time": "2023-10-04T18:30:06.915Z"
   },
   {
    "duration": 9,
    "start_time": "2023-10-04T18:31:40.549Z"
   },
   {
    "duration": 49,
    "start_time": "2023-10-04T18:31:41.686Z"
   },
   {
    "duration": 22,
    "start_time": "2023-10-04T18:31:42.430Z"
   },
   {
    "duration": 15,
    "start_time": "2023-10-04T18:31:43.759Z"
   },
   {
    "duration": 12,
    "start_time": "2023-10-04T18:31:44.875Z"
   },
   {
    "duration": 5,
    "start_time": "2023-10-04T18:31:45.974Z"
   },
   {
    "duration": 3,
    "start_time": "2023-10-04T18:31:46.506Z"
   },
   {
    "duration": 5,
    "start_time": "2023-10-04T18:31:47.015Z"
   },
   {
    "duration": 4,
    "start_time": "2023-10-04T18:31:48.136Z"
   },
   {
    "duration": 14,
    "start_time": "2023-10-04T18:31:48.665Z"
   },
   {
    "duration": 18,
    "start_time": "2023-10-04T18:31:49.856Z"
   },
   {
    "duration": 29,
    "start_time": "2023-10-04T18:31:51.730Z"
   },
   {
    "duration": 13,
    "start_time": "2023-10-04T18:31:54.074Z"
   },
   {
    "duration": 9,
    "start_time": "2023-10-04T18:31:55.780Z"
   },
   {
    "duration": 27,
    "start_time": "2023-10-04T18:31:56.418Z"
   },
   {
    "duration": 332,
    "start_time": "2023-10-04T18:31:59.010Z"
   },
   {
    "duration": 27,
    "start_time": "2023-10-04T18:32:01.224Z"
   },
   {
    "duration": 9,
    "start_time": "2023-10-04T18:34:29.795Z"
   },
   {
    "duration": 34,
    "start_time": "2023-10-04T18:34:30.327Z"
   },
   {
    "duration": 393,
    "start_time": "2023-10-04T18:34:32.306Z"
   },
   {
    "duration": 8479,
    "start_time": "2023-10-04T18:34:39.408Z"
   },
   {
    "duration": 46,
    "start_time": "2023-10-04T18:35:04.037Z"
   },
   {
    "duration": 8472,
    "start_time": "2023-10-04T18:35:07.118Z"
   },
   {
    "duration": 39,
    "start_time": "2023-10-04T18:35:15.592Z"
   },
   {
    "duration": 21,
    "start_time": "2023-10-04T18:41:17.536Z"
   },
   {
    "duration": 9,
    "start_time": "2023-10-04T18:42:16.286Z"
   },
   {
    "duration": 7767,
    "start_time": "2023-10-04T18:42:45.493Z"
   },
   {
    "duration": 330,
    "start_time": "2023-10-04T18:43:43.375Z"
   },
   {
    "duration": 11,
    "start_time": "2023-10-04T18:43:44.652Z"
   },
   {
    "duration": 7725,
    "start_time": "2023-10-04T18:43:46.361Z"
   },
   {
    "duration": 5764,
    "start_time": "2023-10-04T18:43:57.975Z"
   },
   {
    "duration": 5818,
    "start_time": "2023-10-04T18:44:48.742Z"
   },
   {
    "duration": 38,
    "start_time": "2023-10-04T18:45:03.934Z"
   },
   {
    "duration": 10,
    "start_time": "2023-10-04T18:48:53.528Z"
   },
   {
    "duration": 78,
    "start_time": "2023-10-04T18:49:23.468Z"
   },
   {
    "duration": 274,
    "start_time": "2023-10-04T18:52:24.022Z"
   },
   {
    "duration": 19,
    "start_time": "2023-10-04T18:53:36.334Z"
   },
   {
    "duration": 64,
    "start_time": "2023-10-04T18:53:41.340Z"
   },
   {
    "duration": 109,
    "start_time": "2023-10-04T18:57:35.081Z"
   },
   {
    "duration": 3560,
    "start_time": "2023-10-04T18:59:03.316Z"
   },
   {
    "duration": 3620,
    "start_time": "2023-10-04T19:00:10.074Z"
   },
   {
    "duration": 14,
    "start_time": "2023-10-04T19:02:38.477Z"
   },
   {
    "duration": 13,
    "start_time": "2023-10-04T19:03:15.671Z"
   },
   {
    "duration": 102,
    "start_time": "2023-10-04T19:06:38.212Z"
   },
   {
    "duration": 8652,
    "start_time": "2023-10-04T19:09:21.009Z"
   },
   {
    "duration": 18,
    "start_time": "2023-10-04T19:10:49.258Z"
   },
   {
    "duration": 38,
    "start_time": "2023-10-04T19:11:41.102Z"
   },
   {
    "duration": 74,
    "start_time": "2023-10-04T19:14:25.282Z"
   },
   {
    "duration": 16,
    "start_time": "2023-10-04T19:16:35.369Z"
   },
   {
    "duration": 15,
    "start_time": "2023-10-04T19:17:05.233Z"
   },
   {
    "duration": 8680,
    "start_time": "2023-10-04T19:17:31.080Z"
   },
   {
    "duration": 48,
    "start_time": "2023-10-04T19:17:39.763Z"
   },
   {
    "duration": 28,
    "start_time": "2023-10-04T19:17:39.813Z"
   },
   {
    "duration": 33,
    "start_time": "2023-10-04T19:17:39.851Z"
   },
   {
    "duration": 32,
    "start_time": "2023-10-04T19:17:39.947Z"
   },
   {
    "duration": 123,
    "start_time": "2023-10-04T19:17:39.982Z"
   },
   {
    "duration": 576,
    "start_time": "2023-10-04T19:17:40.107Z"
   },
   {
    "duration": 16,
    "start_time": "2023-10-04T19:17:57.877Z"
   },
   {
    "duration": 30,
    "start_time": "2023-10-04T19:43:23.677Z"
   },
   {
    "duration": 3706,
    "start_time": "2023-10-04T19:47:11.501Z"
   },
   {
    "duration": 1412,
    "start_time": "2023-10-04T19:49:04.786Z"
   },
   {
    "duration": 11,
    "start_time": "2023-10-04T19:55:35.408Z"
   },
   {
    "duration": 1342,
    "start_time": "2023-10-04T19:56:43.680Z"
   },
   {
    "duration": 30,
    "start_time": "2023-10-04T19:56:45.025Z"
   },
   {
    "duration": 1540,
    "start_time": "2023-10-04T20:01:14.991Z"
   },
   {
    "duration": 15,
    "start_time": "2023-10-04T20:01:20.469Z"
   },
   {
    "duration": 3716,
    "start_time": "2023-10-04T20:01:42.523Z"
   },
   {
    "duration": 44,
    "start_time": "2023-10-04T20:02:32.136Z"
   },
   {
    "duration": 20,
    "start_time": "2023-10-04T20:08:11.975Z"
   },
   {
    "duration": 79,
    "start_time": "2023-10-04T20:08:31.872Z"
   },
   {
    "duration": 14,
    "start_time": "2023-10-04T20:10:31.672Z"
   },
   {
    "duration": 1537,
    "start_time": "2023-10-04T20:10:32.988Z"
   },
   {
    "duration": 102,
    "start_time": "2023-10-04T20:27:33.784Z"
   },
   {
    "duration": 42,
    "start_time": "2023-10-04T20:27:39.036Z"
   },
   {
    "duration": 150,
    "start_time": "2023-10-04T20:27:40.577Z"
   },
   {
    "duration": 17,
    "start_time": "2023-10-04T20:32:52.088Z"
   },
   {
    "duration": 1644,
    "start_time": "2023-10-04T20:32:53.713Z"
   },
   {
    "duration": 1617,
    "start_time": "2023-10-04T20:34:28.929Z"
   },
   {
    "duration": 1630,
    "start_time": "2023-10-04T20:35:03.370Z"
   },
   {
    "duration": 1739,
    "start_time": "2023-10-04T20:35:30.280Z"
   },
   {
    "duration": 36,
    "start_time": "2023-10-04T20:36:16.644Z"
   },
   {
    "duration": 32,
    "start_time": "2023-10-04T20:36:24.993Z"
   },
   {
    "duration": 14,
    "start_time": "2023-10-04T20:37:06.381Z"
   },
   {
    "duration": 1669,
    "start_time": "2023-10-04T20:37:08.565Z"
   },
   {
    "duration": 1721,
    "start_time": "2023-10-04T20:37:34.974Z"
   },
   {
    "duration": 14,
    "start_time": "2023-10-04T20:39:07.090Z"
   },
   {
    "duration": 1650,
    "start_time": "2023-10-04T20:39:07.914Z"
   },
   {
    "duration": 84,
    "start_time": "2023-10-04T20:42:28.973Z"
   },
   {
    "duration": 131,
    "start_time": "2023-10-04T20:43:04.743Z"
   },
   {
    "duration": 5504,
    "start_time": "2023-10-04T20:43:23.317Z"
   },
   {
    "duration": 16044,
    "start_time": "2023-10-04T20:44:55.763Z"
   },
   {
    "duration": 17307,
    "start_time": "2023-10-04T20:45:23.345Z"
   },
   {
    "duration": 4399,
    "start_time": "2023-10-04T20:46:59.074Z"
   },
   {
    "duration": 10,
    "start_time": "2023-10-04T20:47:54.312Z"
   },
   {
    "duration": 8323,
    "start_time": "2023-10-04T20:47:55.419Z"
   },
   {
    "duration": 6362,
    "start_time": "2023-10-04T20:48:03.743Z"
   },
   {
    "duration": 47,
    "start_time": "2023-10-04T20:48:10.107Z"
   },
   {
    "duration": 234,
    "start_time": "2023-10-04T20:48:25.114Z"
   },
   {
    "duration": 12,
    "start_time": "2023-10-04T20:48:26.742Z"
   },
   {
    "duration": 12,
    "start_time": "2023-10-04T20:48:34.393Z"
   },
   {
    "duration": 3481,
    "start_time": "2023-10-04T20:48:36.897Z"
   },
   {
    "duration": 9,
    "start_time": "2023-10-04T20:48:52.499Z"
   },
   {
    "duration": 8321,
    "start_time": "2023-10-04T20:49:00.501Z"
   },
   {
    "duration": 13538,
    "start_time": "2023-10-04T20:49:08.824Z"
   },
   {
    "duration": 35,
    "start_time": "2023-10-04T20:49:33.991Z"
   },
   {
    "duration": 39,
    "start_time": "2023-10-04T20:49:35.532Z"
   },
   {
    "duration": 19,
    "start_time": "2023-10-04T20:49:36.056Z"
   },
   {
    "duration": 12,
    "start_time": "2023-10-04T20:49:37.334Z"
   },
   {
    "duration": 1371,
    "start_time": "2023-10-04T20:49:39.732Z"
   },
   {
    "duration": 9,
    "start_time": "2023-10-04T20:49:41.105Z"
   },
   {
    "duration": 3450,
    "start_time": "2023-10-04T20:49:42.525Z"
   },
   {
    "duration": 4203,
    "start_time": "2023-10-04T20:49:45.978Z"
   },
   {
    "duration": 25,
    "start_time": "2023-10-04T20:49:50.183Z"
   },
   {
    "duration": 137,
    "start_time": "2023-10-04T20:49:50.210Z"
   },
   {
    "duration": 25,
    "start_time": "2023-10-04T20:49:50.349Z"
   },
   {
    "duration": 180,
    "start_time": "2023-10-04T20:49:50.375Z"
   },
   {
    "duration": 102,
    "start_time": "2023-10-04T20:49:51.112Z"
   },
   {
    "duration": 5,
    "start_time": "2023-10-04T20:50:06.006Z"
   },
   {
    "duration": 45,
    "start_time": "2023-10-04T20:50:07.603Z"
   },
   {
    "duration": 16,
    "start_time": "2023-10-04T20:50:08.371Z"
   },
   {
    "duration": 20,
    "start_time": "2023-10-04T20:50:09.848Z"
   },
   {
    "duration": 14,
    "start_time": "2023-10-04T20:50:11.666Z"
   },
   {
    "duration": 5,
    "start_time": "2023-10-04T20:50:13.615Z"
   },
   {
    "duration": 4,
    "start_time": "2023-10-04T20:50:14.362Z"
   },
   {
    "duration": 6,
    "start_time": "2023-10-04T20:50:14.882Z"
   },
   {
    "duration": 5,
    "start_time": "2023-10-04T20:50:24.339Z"
   },
   {
    "duration": 6,
    "start_time": "2023-10-04T20:50:24.708Z"
   },
   {
    "duration": 4,
    "start_time": "2023-10-04T20:50:25.818Z"
   },
   {
    "duration": 14,
    "start_time": "2023-10-04T20:50:26.427Z"
   },
   {
    "duration": 17,
    "start_time": "2023-10-04T20:50:28.842Z"
   },
   {
    "duration": 24,
    "start_time": "2023-10-04T20:50:30.641Z"
   },
   {
    "duration": 12,
    "start_time": "2023-10-04T20:50:32.708Z"
   },
   {
    "duration": 9,
    "start_time": "2023-10-04T20:50:34.225Z"
   },
   {
    "duration": 27,
    "start_time": "2023-10-04T20:50:34.907Z"
   },
   {
    "duration": 355,
    "start_time": "2023-10-04T20:50:36.945Z"
   },
   {
    "duration": 14,
    "start_time": "2023-10-04T20:50:38.342Z"
   },
   {
    "duration": 8173,
    "start_time": "2023-10-04T20:50:40.596Z"
   },
   {
    "duration": 6410,
    "start_time": "2023-10-04T20:50:55.217Z"
   },
   {
    "duration": 48,
    "start_time": "2023-10-04T20:51:01.630Z"
   },
   {
    "duration": 252,
    "start_time": "2023-10-04T20:51:08.910Z"
   },
   {
    "duration": 15,
    "start_time": "2023-10-04T20:51:13.580Z"
   },
   {
    "duration": 16,
    "start_time": "2023-10-04T20:51:24.720Z"
   },
   {
    "duration": 3311,
    "start_time": "2023-10-04T20:51:26.785Z"
   },
   {
    "duration": 11,
    "start_time": "2023-10-04T20:51:34.482Z"
   },
   {
    "duration": 8330,
    "start_time": "2023-10-04T20:51:41.861Z"
   },
   {
    "duration": 13715,
    "start_time": "2023-10-04T20:51:52.595Z"
   },
   {
    "duration": 36,
    "start_time": "2023-10-04T20:52:08.737Z"
   },
   {
    "duration": 104,
    "start_time": "2023-10-04T20:52:11.560Z"
   },
   {
    "duration": 26,
    "start_time": "2023-10-04T20:52:14.125Z"
   },
   {
    "duration": 15,
    "start_time": "2023-10-04T20:52:19.175Z"
   },
   {
    "duration": 1392,
    "start_time": "2023-10-04T20:52:21.231Z"
   },
   {
    "duration": 13,
    "start_time": "2023-10-04T20:52:32.015Z"
   },
   {
    "duration": 3525,
    "start_time": "2023-10-04T20:52:33.963Z"
   },
   {
    "duration": 4269,
    "start_time": "2023-10-04T20:52:41.258Z"
   },
   {
    "duration": 39,
    "start_time": "2023-10-04T20:52:53.527Z"
   },
   {
    "duration": 20,
    "start_time": "2023-10-04T20:53:11.366Z"
   },
   {
    "duration": 11,
    "start_time": "2023-10-04T20:53:12.307Z"
   },
   {
    "duration": 13,
    "start_time": "2023-10-04T20:53:21.210Z"
   },
   {
    "duration": 102,
    "start_time": "2023-10-04T20:53:22.941Z"
   },
   {
    "duration": 1539,
    "start_time": "2023-10-04T20:53:42.279Z"
   },
   {
    "duration": 5,
    "start_time": "2023-10-04T20:57:47.313Z"
   },
   {
    "duration": 27,
    "start_time": "2023-10-04T21:00:23.532Z"
   },
   {
    "duration": 297,
    "start_time": "2023-10-04T21:00:27.932Z"
   },
   {
    "duration": 10,
    "start_time": "2023-10-04T21:00:28.443Z"
   },
   {
    "duration": 7,
    "start_time": "2023-10-04T21:00:53.000Z"
   },
   {
    "duration": 51,
    "start_time": "2023-10-04T21:00:54.381Z"
   },
   {
    "duration": 23,
    "start_time": "2023-10-04T21:00:54.979Z"
   },
   {
    "duration": 20,
    "start_time": "2023-10-04T21:00:56.179Z"
   },
   {
    "duration": 15,
    "start_time": "2023-10-04T21:00:57.349Z"
   },
   {
    "duration": 7,
    "start_time": "2023-10-04T21:00:58.479Z"
   },
   {
    "duration": 5,
    "start_time": "2023-10-04T21:00:59.070Z"
   },
   {
    "duration": 6,
    "start_time": "2023-10-04T21:01:00.192Z"
   },
   {
    "duration": 15,
    "start_time": "2023-10-04T21:01:00.756Z"
   },
   {
    "duration": 19,
    "start_time": "2023-10-04T21:01:01.751Z"
   },
   {
    "duration": 21,
    "start_time": "2023-10-04T21:01:03.650Z"
   },
   {
    "duration": 17,
    "start_time": "2023-10-04T21:01:05.962Z"
   },
   {
    "duration": 11,
    "start_time": "2023-10-04T21:01:07.709Z"
   },
   {
    "duration": 28,
    "start_time": "2023-10-04T21:01:08.142Z"
   },
   {
    "duration": 410,
    "start_time": "2023-10-04T21:01:10.522Z"
   },
   {
    "duration": 11,
    "start_time": "2023-10-04T21:01:11.931Z"
   },
   {
    "duration": 7933,
    "start_time": "2023-10-04T21:01:20.219Z"
   },
   {
    "duration": 6092,
    "start_time": "2023-10-04T21:01:40.069Z"
   },
   {
    "duration": 38,
    "start_time": "2023-10-04T21:02:11.119Z"
   },
   {
    "duration": 500,
    "start_time": "2023-10-04T21:02:17.351Z"
   },
   {
    "duration": 18,
    "start_time": "2023-10-04T21:02:19.270Z"
   },
   {
    "duration": 18,
    "start_time": "2023-10-04T21:02:46.413Z"
   },
   {
    "duration": 3205,
    "start_time": "2023-10-04T21:02:48.463Z"
   },
   {
    "duration": 12,
    "start_time": "2023-10-04T21:02:53.181Z"
   },
   {
    "duration": 7919,
    "start_time": "2023-10-04T21:03:22.602Z"
   },
   {
    "duration": 7847,
    "start_time": "2023-10-04T21:04:32.344Z"
   },
   {
    "duration": 3179,
    "start_time": "2023-10-04T21:05:07.223Z"
   },
   {
    "duration": 13,
    "start_time": "2023-10-04T21:05:13.670Z"
   },
   {
    "duration": 7969,
    "start_time": "2023-10-04T21:05:16.284Z"
   },
   {
    "duration": 13112,
    "start_time": "2023-10-04T21:05:24.255Z"
   },
   {
    "duration": 11171,
    "start_time": "2023-10-04T21:05:49.765Z"
   },
   {
    "duration": 33,
    "start_time": "2023-10-04T21:06:03.763Z"
   },
   {
    "duration": 45,
    "start_time": "2023-10-04T21:07:00.705Z"
   },
   {
    "duration": 18,
    "start_time": "2023-10-04T21:07:02.940Z"
   },
   {
    "duration": 13,
    "start_time": "2023-10-04T21:07:06.697Z"
   },
   {
    "duration": 1325,
    "start_time": "2023-10-04T21:07:08.856Z"
   },
   {
    "duration": 11,
    "start_time": "2023-10-04T21:07:11.463Z"
   },
   {
    "duration": 3427,
    "start_time": "2023-10-04T21:07:13.645Z"
   },
   {
    "duration": 4301,
    "start_time": "2023-10-04T21:07:31.614Z"
   },
   {
    "duration": 38,
    "start_time": "2023-10-04T21:07:35.917Z"
   },
   {
    "duration": 18,
    "start_time": "2023-10-04T21:07:41.475Z"
   },
   {
    "duration": 12,
    "start_time": "2023-10-04T21:07:42.396Z"
   },
   {
    "duration": 14,
    "start_time": "2023-10-04T21:08:56.173Z"
   },
   {
    "duration": 1549,
    "start_time": "2023-10-04T21:08:57.525Z"
   },
   {
    "duration": 1554,
    "start_time": "2023-10-04T21:09:30.473Z"
   },
   {
    "duration": 24,
    "start_time": "2023-10-04T21:11:07.758Z"
   },
   {
    "duration": 11,
    "start_time": "2023-10-04T21:12:53.178Z"
   },
   {
    "duration": 10,
    "start_time": "2023-10-04T21:17:15.867Z"
   },
   {
    "duration": 13,
    "start_time": "2023-10-04T21:17:34.085Z"
   },
   {
    "duration": 1038,
    "start_time": "2023-10-04T21:17:44.885Z"
   },
   {
    "duration": 528,
    "start_time": "2023-10-04T21:18:04.916Z"
   },
   {
    "duration": 751,
    "start_time": "2023-10-04T21:18:26.580Z"
   },
   {
    "duration": 520,
    "start_time": "2023-10-04T21:18:32.200Z"
   },
   {
    "duration": 432,
    "start_time": "2023-10-04T21:19:50.158Z"
   },
   {
    "duration": 12,
    "start_time": "2023-10-04T21:22:05.111Z"
   },
   {
    "duration": 434,
    "start_time": "2023-10-04T21:22:06.375Z"
   },
   {
    "duration": 1194,
    "start_time": "2023-12-01T18:06:30.766Z"
   },
   {
    "duration": 164,
    "start_time": "2023-12-01T18:06:37.724Z"
   },
   {
    "duration": 19,
    "start_time": "2023-12-01T18:06:37.890Z"
   },
   {
    "duration": 5,
    "start_time": "2023-12-01T18:06:47.339Z"
   },
   {
    "duration": 40,
    "start_time": "2023-12-01T18:06:48.964Z"
   },
   {
    "duration": 1167,
    "start_time": "2023-12-01T18:07:07.284Z"
   },
   {
    "duration": 42,
    "start_time": "2023-12-01T18:07:08.453Z"
   },
   {
    "duration": 19,
    "start_time": "2023-12-01T18:07:08.498Z"
   },
   {
    "duration": 19,
    "start_time": "2023-12-01T18:07:08.518Z"
   },
   {
    "duration": 15,
    "start_time": "2023-12-01T18:07:08.539Z"
   },
   {
    "duration": 4,
    "start_time": "2023-12-01T18:07:08.556Z"
   },
   {
    "duration": 9,
    "start_time": "2023-12-01T18:07:08.561Z"
   },
   {
    "duration": 6,
    "start_time": "2023-12-01T18:07:08.572Z"
   },
   {
    "duration": 13,
    "start_time": "2023-12-01T18:07:08.580Z"
   },
   {
    "duration": 20,
    "start_time": "2023-12-01T18:07:08.594Z"
   },
   {
    "duration": 17,
    "start_time": "2023-12-01T18:07:08.616Z"
   },
   {
    "duration": 19,
    "start_time": "2023-12-01T18:07:08.634Z"
   },
   {
    "duration": 21,
    "start_time": "2023-12-01T18:07:08.655Z"
   },
   {
    "duration": 32,
    "start_time": "2023-12-01T18:07:08.677Z"
   },
   {
    "duration": 290,
    "start_time": "2023-12-01T18:07:08.711Z"
   },
   {
    "duration": 18,
    "start_time": "2023-12-01T18:07:09.002Z"
   },
   {
    "duration": 6622,
    "start_time": "2023-12-01T18:07:09.021Z"
   },
   {
    "duration": 4923,
    "start_time": "2023-12-01T18:07:15.645Z"
   },
   {
    "duration": 34,
    "start_time": "2023-12-01T18:07:20.570Z"
   },
   {
    "duration": 101,
    "start_time": "2023-12-01T18:07:20.613Z"
   },
   {
    "duration": 103,
    "start_time": "2023-12-01T18:07:20.717Z"
   },
   {
    "duration": 101,
    "start_time": "2023-12-01T18:07:20.822Z"
   },
   {
    "duration": 2761,
    "start_time": "2023-12-01T18:07:20.924Z"
   },
   {
    "duration": 8,
    "start_time": "2023-12-01T18:07:23.687Z"
   },
   {
    "duration": 6659,
    "start_time": "2023-12-01T18:07:23.696Z"
   },
   {
    "duration": 1132,
    "start_time": "2023-12-01T18:07:35.223Z"
   }
  ],
  "kernelspec": {
   "display_name": "Python 3 (ipykernel)",
   "language": "python",
   "name": "python3"
  },
  "language_info": {
   "codemirror_mode": {
    "name": "ipython",
    "version": 3
   },
   "file_extension": ".py",
   "mimetype": "text/x-python",
   "name": "python",
   "nbconvert_exporter": "python",
   "pygments_lexer": "ipython3",
   "version": "3.9.5"
  },
  "toc": {
   "base_numbering": 1,
   "nav_menu": {},
   "number_sections": true,
   "sideBar": true,
   "skip_h1_title": true,
   "title_cell": "Содержание",
   "title_sidebar": "Contents",
   "toc_cell": true,
   "toc_position": {},
   "toc_section_display": true,
   "toc_window_display": false
  }
 },
 "nbformat": 4,
 "nbformat_minor": 2
}
